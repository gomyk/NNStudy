{
 "cells": [
  {
   "cell_type": "code",
   "execution_count": 1,
   "metadata": {},
   "outputs": [],
   "source": [
    "import gym\n",
    "import random"
   ]
  },
  {
   "cell_type": "code",
   "execution_count": 2,
   "metadata": {},
   "outputs": [
    {
     "data": {
      "text/plain": [
       "<TimeLimit<CartPoleEnv<CartPole-v0>>>"
      ]
     },
     "execution_count": 2,
     "metadata": {},
     "output_type": "execute_result"
    }
   ],
   "source": [
    "class RandomActionWrapper(gym.ActionWrapper):\n",
    "    def __init__(self, env, eps = 0.1):\n",
    "        super(RandomActionWrapper,self).__init__(env)\n",
    "        self.eps = eps\n",
    "        \n",
    "    def action(self,action):\n",
    "        if random.random() < self.eps:\n",
    "            return self.env.action_space.sample()\n",
    "        return action\n",
    "    \n",
    "gym.make(\"CartPole-v0\")"
   ]
  },
  {
   "cell_type": "code",
   "execution_count": 3,
   "metadata": {
    "scrolled": true
   },
   "outputs": [
    {
     "name": "stdout",
     "output_type": "stream",
     "text": [
      "Step 12 / Reward 12.0000\n"
     ]
    }
   ],
   "source": [
    "total_rew = 0.0\n",
    "total_step = 0\n",
    "\n",
    "env = RandomActionWrapper(gym.make(\"CartPole-v0\"))\n",
    "env.reset()\n",
    "env.render()\n",
    "\n",
    "while True:\n",
    "    action = env.action_space.sample()\n",
    "    obs, rew, done, _ = env.step(action)\n",
    "    total_rew += rew\n",
    "    total_step += 1\n",
    "    if done:\n",
    "        break\n",
    "        \n",
    "print(\"Step %d / Reward %.4f\"%(total_step, total_rew))"
   ]
  },
  {
   "cell_type": "code",
   "execution_count": null,
   "metadata": {},
   "outputs": [],
   "source": []
  }
 ],
 "metadata": {
  "kernelspec": {
   "display_name": "Python 3",
   "language": "python",
   "name": "python3"
  },
  "language_info": {
   "codemirror_mode": {
    "name": "ipython",
    "version": 3
   },
   "file_extension": ".py",
   "mimetype": "text/x-python",
   "name": "python",
   "nbconvert_exporter": "python",
   "pygments_lexer": "ipython3",
   "version": "3.6.5"
  }
 },
 "nbformat": 4,
 "nbformat_minor": 2
}
