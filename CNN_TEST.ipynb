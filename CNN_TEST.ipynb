{
  "nbformat": 4,
  "nbformat_minor": 0,
  "metadata": {
    "colab": {
      "name": "CNN_TEST.ipynb",
      "provenance": [],
      "collapsed_sections": [],
      "include_colab_link": true
    },
    "kernelspec": {
      "name": "python3",
      "display_name": "Python 3"
    },
    "accelerator": "GPU"
  },
  "cells": [
    {
      "cell_type": "markdown",
      "metadata": {
        "id": "view-in-github",
        "colab_type": "text"
      },
      "source": [
        "<a href=\"https://colab.research.google.com/github/gomyk/NNStudy/blob/moonwon/CNN_TEST.ipynb\" target=\"_parent\"><img src=\"https://colab.research.google.com/assets/colab-badge.svg\" alt=\"Open In Colab\"/></a>"
      ]
    },
    {
      "cell_type": "code",
      "metadata": {
        "id": "BruEnRmh5PdT",
        "colab_type": "code",
        "outputId": "399185a2-8b24-4b60-8293-5d25dd92440c",
        "colab": {
          "base_uri": "https://localhost:8080/",
          "height": 35
        }
      },
      "source": [
        "!pip3 install https://download.pytorch.org/whl/cu80/torch-0.3.0.post4-cp36-cp36m-linux_x86_64.whl"
      ],
      "execution_count": 0,
      "outputs": [
        {
          "output_type": "stream",
          "text": [
            "/bin/bash: pip3d: command not found\n"
          ],
          "name": "stdout"
        }
      ]
    },
    {
      "cell_type": "code",
      "metadata": {
        "id": "-yA1gIci52AC",
        "colab_type": "code",
        "outputId": "4112865a-f340-464d-d4d1-7531b46180c4",
        "colab": {
          "base_uri": "https://localhost:8080/",
          "height": 89
        }
      },
      "source": [
        "!pip3 install torch-vision\n"
      ],
      "execution_count": 0,
      "outputs": [
        {
          "output_type": "stream",
          "text": [
            "Collecting torch-vision\n",
            "  Downloading https://files.pythonhosted.org/packages/ea/13/4942860c32f6877def97c0b432348adce870ae613ed4eb1de10cae0bb018/torch_vision-0.1.6.dev0-py2.py3-none-any.whl\n",
            "Installing collected packages: torch-vision\n",
            "Successfully installed torch-vision-0.1.6.dev0\n"
          ],
          "name": "stdout"
        }
      ]
    },
    {
      "cell_type": "code",
      "metadata": {
        "id": "QG-snKZL6Ct6",
        "colab_type": "code",
        "colab": {}
      },
      "source": [
        "import torch\n",
        "import torchvision\n",
        "import torchvision.transforms as transforms"
      ],
      "execution_count": 0,
      "outputs": []
    },
    {
      "cell_type": "code",
      "metadata": {
        "id": "CnXTBbG96Kbb",
        "colab_type": "code",
        "outputId": "992b68d3-c1cc-4f21-8217-d5d65e32cae0",
        "colab": {
          "base_uri": "https://localhost:8080/",
          "height": 35
        }
      },
      "source": [
        "transform = transforms.Compose(\n",
        "    [transforms.ToTensor(),\n",
        "     transforms.Normalize((0.5, 0.5, 0.5), (0.5, 0.5, 0.5))])\n",
        "\n",
        "trainset = torchvision.datasets.CIFAR100(root='./data', train=True,\n",
        "                                        download=True, transform=transform)\n",
        "#train_set, val_set = torch.utils.data.random_split(trainset, [int(len(trainset)*0.9), int(len(trainset)*0.1)])\n",
        "trainloader = torch.utils.data.DataLoader(trainset, batch_size=256, shuffle=True, num_workers=2)\n",
        "\n",
        "testset = torchvision.datasets.CIFAR100(root='./data', train=False,\n",
        "                                        download=True, transform=transform)\n",
        "testloader = torch.utils.data.DataLoader(testset, batch_size=256, shuffle=False, num_workers=2)"
      ],
      "execution_count": 0,
      "outputs": [
        {
          "output_type": "stream",
          "text": [
            "Files already downloaded and verified\n"
          ],
          "name": "stdout"
        }
      ]
    },
    {
      "cell_type": "code",
      "metadata": {
        "id": "PBuUQGLB6Q6C",
        "colab_type": "code",
        "outputId": "23114385-87b8-4caf-fcea-c2f1ce0b3f72",
        "colab": {
          "base_uri": "https://localhost:8080/",
          "height": 35
        }
      },
      "source": [
        "print(torch.cuda.is_available())"
      ],
      "execution_count": 0,
      "outputs": [
        {
          "output_type": "stream",
          "text": [
            "True\n"
          ],
          "name": "stdout"
        }
      ]
    },
    {
      "cell_type": "code",
      "metadata": {
        "id": "_zOnkapj6zqG",
        "colab_type": "code",
        "colab": {}
      },
      "source": [
        "import matplotlib.pyplot as plt\n",
        "import numpy as np"
      ],
      "execution_count": 0,
      "outputs": []
    },
    {
      "cell_type": "code",
      "metadata": {
        "id": "OaOM-axD62M5",
        "colab_type": "code",
        "colab": {}
      },
      "source": [
        "def imshow(img):\n",
        "    img = img / 2 + 0.5     # unnormalize\n",
        "    npimg = img.numpy()\n",
        "    plt.imshow(np.transpose(npimg, (1, 2, 0)))\n",
        "    plt.show()"
      ],
      "execution_count": 0,
      "outputs": []
    },
    {
      "cell_type": "code",
      "metadata": {
        "id": "w015P22K64bP",
        "colab_type": "code",
        "outputId": "41ba185f-5f0f-4a2c-b11a-fd8cacab9072",
        "colab": {
          "base_uri": "https://localhost:8080/",
          "height": 287
        }
      },
      "source": [
        "# 학습용 이미지를 무작위로 가져오기\n",
        "dataiter = iter(trainloader)\n",
        "images, labels = dataiter.next()\n",
        "\n",
        "# 이미지 보여주기\n",
        "imshow(torchvision.utils.make_grid(images))\n",
        "# 정답(label) 출력\n",
        "print(' '.join('%5s' % labels[j] for j in range(1)))"
      ],
      "execution_count": 0,
      "outputs": [
        {
          "output_type": "display_data",
          "data": {
            "image/png": "[encoded data removed]",
            "text/plain": [
              "<Figure size 432x288 with 1 Axes>"
            ]
          },
          "metadata": {
            "tags": [],
            "needs_background": "light"
          }
        },
        {
          "output_type": "stream",
          "text": [
            "tensor(26)\n"
          ],
          "name": "stdout"
        }
      ]
    },
    {
      "cell_type": "code",
      "metadata": {
        "id": "a1GjX3UX6780",
        "colab_type": "code",
        "colab": {}
      },
      "source": [
        "import torch.nn as nn\n",
        "import torch.nn.functional as F\n",
        "\n",
        "\n",
        "class Net(nn.Module):\n",
        "    def __init__(self):\n",
        "        super(Net, self).__init__()\n",
        "        self.conv_1 = nn.Sequential(\n",
        "            nn.Conv2d(3, 16, 3, padding=1),\n",
        "            nn.ReLU(),\n",
        "            nn.MaxPool2d(2,2),\n",
        "            nn.Conv2d(16, 64, 3, padding=1),\n",
        "            nn.ReLU(),\n",
        "            nn.MaxPool2d(2,2),\n",
        "            nn.Conv2d(64, 128, 3, padding=1),\n",
        "            nn.ReLU(),\n",
        "            nn.MaxPool2d(2,2),\n",
        "            nn.Conv2d(128, 256, 3, padding=1),\n",
        "            nn.ReLU(),\n",
        "            nn.MaxPool2d(2,2),\n",
        "            nn.Conv2d(256, 512, 3, padding=1),\n",
        "            nn.Dropout()\n",
        "        )\n",
        "        \n",
        "        self.conv_block_head = nn.Sequential(\n",
        "            nn.Conv2d(3, 16, 3, padding=1),\n",
        "            nn.BatchNorm2d(16),\n",
        "            nn.ReLU(),\n",
        "            nn.Conv2d(16, 64, 3, padding=1),\n",
        "            nn.BatchNorm2d(64),\n",
        "            nn.ReLU(),\n",
        "            nn.Conv2d(64, 128, 3, padding=1),\n",
        "            nn.BatchNorm2d(128),\n",
        "            nn.ReLU(),\n",
        "            nn.MaxPool2d(2,2),\n",
        "            nn.Conv2d(128, 256, 3, padding=1),\n",
        "            nn.BatchNorm2d(256),\n",
        "            nn.ReLU()\n",
        "        )\n",
        "        \n",
        "        self.conv_block_mid_0 = nn.Sequential(\n",
        "            nn.Conv2d(256, 256, 3, padding=1),\n",
        "            nn.BatchNorm2d(256),\n",
        "            nn.ReLU(),\n",
        "            nn.Conv2d(256, 256, 3, padding=1),\n",
        "            nn.BatchNorm2d(256),\n",
        "            nn.ReLU()\n",
        "        )\n",
        "        \n",
        "        self.conv_block_mid_1 = nn.Sequential(\n",
        "            nn.Conv2d(256, 256, 3, padding=1),\n",
        "            nn.BatchNorm2d(256),\n",
        "            nn.ReLU(),\n",
        "            nn.Conv2d(256, 256, 3, padding=1),\n",
        "            nn.BatchNorm2d(256),\n",
        "            nn.ReLU()\n",
        "        )\n",
        "        \n",
        "        self.conv_block_mid_2 = nn.Sequential(\n",
        "            nn.Conv2d(256, 256, 3, padding=1),\n",
        "            nn.BatchNorm2d(256),\n",
        "            nn.ReLU(),\n",
        "            nn.Conv2d(256, 256, 3, padding=1),\n",
        "            nn.BatchNorm2d(256),\n",
        "            nn.ReLU()\n",
        "        )\n",
        "        \n",
        "        self.conv_block_mid_3 = nn.Sequential(\n",
        "            nn.Conv2d(256, 256, 3, padding=1),\n",
        "            nn.BatchNorm2d(256),\n",
        "            nn.ReLU(),\n",
        "            nn.Conv2d(256, 256, 3, padding=1),\n",
        "            nn.BatchNorm2d(256),\n",
        "            nn.ReLU()\n",
        "        )\n",
        "        \n",
        "        self.conv_block_mid_4 = nn.Sequential(\n",
        "            nn.Conv2d(256, 256, 3, padding=1),\n",
        "            nn.BatchNorm2d(256),\n",
        "            nn.ReLU(),\n",
        "            nn.Conv2d(256, 256, 3, padding=1),\n",
        "            nn.BatchNorm2d(256),\n",
        "            nn.ReLU(),\n",
        "            nn.MaxPool2d(2,2)\n",
        "        )\n",
        "        \n",
        "        self.conv_block_tail_1 = nn.Sequential(\n",
        "            nn.Conv2d(256, 512, 3, padding=1),\n",
        "            nn.BatchNorm2d(512),\n",
        "            nn.ReLU()\n",
        "        )\n",
        "        \n",
        "        self.conv_block_tail_2 = nn.Sequential(\n",
        "            nn.Conv2d(512, 512, 3, padding=1),\n",
        "            nn.BatchNorm2d(512),\n",
        "            nn.ReLU()\n",
        "        )\n",
        "        self.conv_block_tail_3 = nn.Sequential(\n",
        "            nn.Conv2d(512, 512, 3, padding=1),\n",
        "            nn.BatchNorm2d(512),\n",
        "            nn.ReLU(),\n",
        "            nn.MaxPool2d(2,2)\n",
        "        )\n",
        "        \n",
        "        self.fc_1 = nn.Sequential(\n",
        "            nn.Linear(512 * 4 * 4, 1024),\n",
        "            nn.Dropout(),\n",
        "            nn.Linear(1024, 512),\n",
        "            nn.Dropout(),\n",
        "            nn.Linear(512, 100)\n",
        "        )\n",
        "    def forward(self, x):\n",
        "        x = self.conv_block_head(x)\n",
        "        res0 = x = self.conv_block_mid_0(x)\n",
        "        res1 = x = self.conv_block_mid_1(torch.add(res0, x))\n",
        "        res2 = x = self.conv_block_mid_2(torch.add(res1, x))\n",
        "        res3 = x = self.conv_block_mid_3(torch.add(res2, x))\n",
        "        res4 = x = self.conv_block_mid_4(torch.add(res3, x))\n",
        "        t_res1 = x = self.conv_block_tail_1(torch.add(res4, x))\n",
        "        t_res2 = x = self.conv_block_tail_2(torch.add(t_res1, x))\n",
        "        x = self.conv_block_tail_3(torch.add(t_res2, x))\n",
        "        x = x.view(-1, 512 * 4 * 4) \n",
        "        x = self.fc_1(x)\n",
        "        return x\n",
        "    \n",
        "net = Net()"
      ],
      "execution_count": 0,
      "outputs": []
    },
    {
      "cell_type": "code",
      "metadata": {
        "id": "b9bblMaO6-6y",
        "colab_type": "code",
        "colab": {}
      },
      "source": [
        "import torch.optim as optim\n",
        "\n",
        "criterion = nn.CrossEntropyLoss()\n",
        "optimizer = optim.Adam(net.parameters(), lr=0.0005)"
      ],
      "execution_count": 0,
      "outputs": []
    },
    {
      "cell_type": "code",
      "metadata": {
        "id": "9A_aUZjs7Caw",
        "colab_type": "code",
        "colab": {}
      },
      "source": [
        "device = torch.device(\"cuda:0\" if torch.cuda.is_available() else \"cpu\")\n",
        "net = net.to(device)"
      ],
      "execution_count": 0,
      "outputs": []
    },
    {
      "cell_type": "code",
      "metadata": {
        "id": "mE_Ojt5g7Wat",
        "colab_type": "code",
        "outputId": "a450d360-6401-4a72-b226-08477b8d5e50",
        "colab": {
          "base_uri": "https://localhost:8080/",
          "height": 1000
        }
      },
      "source": [
        "for epoch in range(100): # 데이터셋을 수차례 반복합니다. \n",
        "    running_loss = 0.0\n",
        "    \n",
        "    for i, data in enumerate(trainloader, 0):\n",
        "\n",
        "        # [inputs, labels]의 목록인 data로부터 입력을 받은 후;\n",
        "        inputs, labels = data\n",
        "        inputs = inputs.to(device)\n",
        "        labels = labels.to(device)\n",
        "        # 변화도(Gradient) 매개변수를 0으로 만들고\n",
        "        optimizer.zero_grad()\n",
        "\n",
        "        # 순전파 + 역전파 + 최적화를 한 후\n",
        "        outputs = net(inputs)\n",
        "        loss = criterion(outputs, labels)\n",
        "        loss.backward()\n",
        "        optimizer.step()\n",
        "\n",
        "        # 통계를 출력합니다.\n",
        "        running_loss += loss.item()\n",
        "        if i % 20 == 19:    # print every 200 mini-batches\n",
        "            print('[%d, %5d] loss: %.3f' %\n",
        "                  (epoch + 1, i + 1, running_loss / 20))\n",
        "            running_loss = 0.0\n",
        "    correct = 0\n",
        "    total = 0\n",
        "    with torch.no_grad():\n",
        "        for data in testloader:\n",
        "            images, labels = data\n",
        "            net.eval()\n",
        "            images = images.to(device)\n",
        "            labels = labels.to(device)\n",
        "            outputs = net(images)\n",
        "            _, predicted = torch.max(outputs.data, 1)\n",
        "            total += labels.size(0)\n",
        "            correct += (predicted == labels).sum().item()\n",
        "            net.train()\n",
        "    print('Accuracy of the network on the test images: %d %%' % (100 * correct / total))\n",
        "print('Finished Training')"
      ],
      "execution_count": 0,
      "outputs": [
        {
          "output_type": "stream",
          "text": [
            "[1,    20] loss: 4.591\n",
            "[1,    40] loss: 4.506\n",
            "[1,    60] loss: 4.428\n",
            "Accuracy of the network on the test images: 8 %\n",
            "[2,    20] loss: 4.350\n",
            "[2,    40] loss: 4.301\n",
            "[2,    60] loss: 4.261\n",
            "Accuracy of the network on the test images: 10 %\n",
            "[3,    20] loss: 4.207\n",
            "[3,    40] loss: 4.195\n",
            "[3,    60] loss: 4.184\n",
            "Accuracy of the network on the test images: 12 %\n",
            "[4,    20] loss: 4.144\n",
            "[4,    40] loss: 4.107\n",
            "[4,    60] loss: 4.073\n",
            "Accuracy of the network on the test images: 14 %\n",
            "[5,    20] loss: 4.010\n",
            "[5,    40] loss: 4.007\n",
            "[5,    60] loss: 4.004\n",
            "Accuracy of the network on the test images: 16 %\n",
            "[6,    20] loss: 3.952\n",
            "[6,    40] loss: 3.944\n",
            "[6,    60] loss: 3.931\n",
            "Accuracy of the network on the test images: 18 %\n",
            "[7,    20] loss: 3.851\n",
            "[7,    40] loss: 3.825\n",
            "[7,    60] loss: 3.841\n",
            "Accuracy of the network on the test images: 20 %\n",
            "[8,    20] loss: 3.783\n",
            "[8,    40] loss: 3.754\n",
            "[8,    60] loss: 3.742\n",
            "Accuracy of the network on the test images: 20 %\n",
            "[9,    20] loss: 3.721\n",
            "[9,    40] loss: 3.709\n",
            "[9,    60] loss: 3.658\n",
            "Accuracy of the network on the test images: 21 %\n",
            "[10,    20] loss: 3.668\n",
            "[10,    40] loss: 3.625\n",
            "[10,    60] loss: 3.639\n",
            "Accuracy of the network on the test images: 22 %\n",
            "[11,    20] loss: 3.600\n",
            "[11,    40] loss: 3.622\n",
            "[11,    60] loss: 3.601\n",
            "Accuracy of the network on the test images: 22 %\n",
            "[12,    20] loss: 3.569\n",
            "[12,    40] loss: 3.561\n",
            "[12,    60] loss: 3.544\n",
            "Accuracy of the network on the test images: 23 %\n",
            "[13,    20] loss: 3.510\n",
            "[13,    40] loss: 3.550\n",
            "[13,    60] loss: 3.496\n",
            "Accuracy of the network on the test images: 24 %\n",
            "[14,    20] loss: 3.495\n",
            "[14,    40] loss: 3.482\n",
            "[14,    60] loss: 3.500\n",
            "Accuracy of the network on the test images: 23 %\n",
            "[15,    20] loss: 3.455\n",
            "[15,    40] loss: 3.451\n",
            "[15,    60] loss: 3.450\n",
            "Accuracy of the network on the test images: 24 %\n",
            "[16,    20] loss: 3.399\n",
            "[16,    40] loss: 3.457\n",
            "[16,    60] loss: 3.402\n",
            "Accuracy of the network on the test images: 24 %\n",
            "[17,    20] loss: 3.386\n",
            "[17,    40] loss: 3.369\n",
            "[17,    60] loss: 3.404\n",
            "Accuracy of the network on the test images: 24 %\n",
            "[18,    20] loss: 3.318\n",
            "[18,    40] loss: 3.338\n",
            "[18,    60] loss: 3.373\n",
            "Accuracy of the network on the test images: 24 %\n",
            "[19,    20] loss: 3.368\n",
            "[19,    40] loss: 3.292\n"
          ],
          "name": "stdout"
        }
      ]
    }
  ]
}