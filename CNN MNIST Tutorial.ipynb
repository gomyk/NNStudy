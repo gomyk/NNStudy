{
 "cells": [
  {
   "cell_type": "code",
   "execution_count": 1,
   "metadata": {
    "scrolled": true
   },
   "outputs": [
    {
     "data": {
      "text/plain": [
       "<torch._C.Generator at 0x16184626350>"
      ]
     },
     "execution_count": 1,
     "metadata": {},
     "output_type": "execute_result"
    }
   ],
   "source": [
    "import torch\n",
    "import torchvision\n",
    "import torchvision.transforms as transforms\n",
    "\n",
    "import matplotlib.pyplot as plt\n",
    "import numpy as np\n",
    "\n",
    "torch.manual_seed(2019)"
   ]
  },
  {
   "cell_type": "code",
   "execution_count": 2,
   "metadata": {},
   "outputs": [],
   "source": [
    "transform = transforms.Compose(\n",
    "    [transforms.ToTensor(),\n",
    "     transforms.Normalize((0.4,), (0.4,))])\n",
    "\n",
    "trainset = torchvision.datasets.MNIST(root='./data', train=True,\n",
    "                                        download=True, transform=transform)\n",
    "trainloader = torch.utils.data.DataLoader(trainset, batch_size=64,\n",
    "                                          shuffle=True, num_workers=2)\n",
    "\n",
    "testset = torchvision.datasets.MNIST(root='./data', train=False,\n",
    "                                       download=True, transform=transform)\n",
    "testloader = torch.utils.data.DataLoader(testset, batch_size=64,\n",
    "                                         shuffle=False, num_workers=2)"
   ]
  },
  {
   "cell_type": "code",
   "execution_count": 3,
   "metadata": {
    "scrolled": true
   },
   "outputs": [],
   "source": [
    "import torch.nn as nn \n",
    "import torch.nn.functional as F"
   ]
  },
  {
   "cell_type": "code",
   "execution_count": 4,
   "metadata": {},
   "outputs": [],
   "source": [
    "class myNet(nn.Module):\n",
    "    def __init__(self):\n",
    "        super(myNet, self).__init__()\n",
    "        self.conv1=nn.Conv2d(1,400,3)\n",
    "        self.pool1=nn.MaxPool2d(2,2)\n",
    "        self.conv2=nn.Conv2d(400,400,3)\n",
    "        self.pool2=nn.MaxPool2d(2,2)\n",
    "        self.fc1=nn.Linear(400*5*5, 200)\n",
    "        self.fc2=nn.Linear(200, 10)\n",
    "        \n",
    "    def forward(self,x):\n",
    "        x=self.pool1(F.relu(self.conv1(x)))\n",
    "        x=self.pool2(F.relu(self.conv2(x)))\n",
    "        x=x.view(-1,400*5*5)\n",
    "        x=F.relu(self.fc1(x))\n",
    "        x=self.fc2(x)\n",
    "        return x\n",
    "    "
   ]
  },
  {
   "cell_type": "code",
   "execution_count": 5,
   "metadata": {},
   "outputs": [],
   "source": [
    "import torch.optim as optim"
   ]
  },
  {
   "cell_type": "code",
   "execution_count": 6,
   "metadata": {
    "scrolled": true
   },
   "outputs": [],
   "source": [
    "use_cuda = True\n",
    "device = torch.device(\"cuda:0\" if use_cuda else \"cpu\")\n",
    "\n",
    "net = myNet()\n",
    "net = net.to(device)\n",
    "criterion = nn.CrossEntropyLoss()\n",
    "opt = optim.SGD(net.parameters(), lr=0.001, momentum=0.9)"
   ]
  },
  {
   "cell_type": "code",
   "execution_count": 7,
   "metadata": {},
   "outputs": [
    {
     "name": "stdout",
     "output_type": "stream",
     "text": [
      "5.8547\n",
      "[1,   125] loss: 0.087\n",
      "3.4729\n",
      "[1,   250] loss: 0.023\n",
      "3.5976\n",
      "[1,   375] loss: 0.017\n",
      "3.4586\n",
      "[1,   500] loss: 0.013\n",
      "3.5181\n",
      "[1,   625] loss: 0.011\n",
      "3.5566\n",
      "[1,   750] loss: 0.009\n",
      "3.5309\n",
      "[1,   875] loss: 0.009\n",
      "4.2727\n",
      "[2,   125] loss: 0.007\n",
      "3.6456\n",
      "[2,   250] loss: 0.007\n",
      "3.6682\n",
      "[2,   375] loss: 0.006\n",
      "3.5741\n",
      "[2,   500] loss: 0.006\n",
      "3.4541\n",
      "[2,   625] loss: 0.006\n",
      "3.4601\n",
      "[2,   750] loss: 0.005\n",
      "3.6205\n",
      "[2,   875] loss: 0.005\n",
      "4.0802\n",
      "[3,   125] loss: 0.004\n",
      "3.6182\n",
      "[3,   250] loss: 0.005\n",
      "3.5713\n",
      "[3,   375] loss: 0.005\n",
      "3.4895\n",
      "[3,   500] loss: 0.004\n",
      "3.4827\n",
      "[3,   625] loss: 0.004\n",
      "3.4803\n",
      "[3,   750] loss: 0.005\n",
      "3.5696\n",
      "[3,   875] loss: 0.004\n",
      "Finished Training\n"
     ]
    }
   ],
   "source": [
    "import time\n",
    "for epoch in range(3):\n",
    "    running_loss = 0\n",
    "    t= time.time()\n",
    "    for i, dl in enumerate(trainloader):\n",
    "        opt.zero_grad()\n",
    "        data, l = dl\n",
    "        data, l = data.to(device), l.to(device)\n",
    "        \n",
    "        out = net(data)\n",
    "        loss = criterion(out, l)\n",
    "        loss.backward()\n",
    "        opt.step()\n",
    "        \n",
    "        running_loss += loss.item()\n",
    "        if i % 125 == 124:    # print every 2000 mini-batches\n",
    "            print('%.4f'%(time.time()-t))\n",
    "            print('[%d, %5d] loss: %.3f' %\n",
    "                  (epoch + 1, i + 1, running_loss / 2000))\n",
    "            running_loss = 0.0\n",
    "            t=time.time()\n",
    "            \n",
    "print('Finished Training')"
   ]
  },
  {
   "cell_type": "code",
   "execution_count": 8,
   "metadata": {},
   "outputs": [
    {
     "name": "stdout",
     "output_type": "stream",
     "text": [
      "Accuracy of the network on the 10000 test images: 98.070 %\n"
     ]
    }
   ],
   "source": [
    "correct = 0\n",
    "total = 0\n",
    "with torch.no_grad():\n",
    "    for i,data in enumerate(testloader):\n",
    "        images, labels = data\n",
    "        images, labels = images.to(device), labels.to(device)\n",
    "        outputs = net(images)\n",
    "        _, predicted = torch.max(outputs.data, 1)\n",
    "        total += labels.size(0)\n",
    "        correct += (predicted == labels).sum().item()\n",
    "        \n",
    "        con = predicted != labels\n",
    "#         for im, p in zip(images[con], predicted[con]):\n",
    "#             print(p)\n",
    "#             plt.imshow(im.cpu().reshape(28,28))\n",
    "#             plt.show()\n",
    "\n",
    "print('Accuracy of the network on the 10000 test images: %.3f %%' % (\n",
    "    100 * correct / total))"
   ]
  }
 ],
 "metadata": {
  "kernelspec": {
   "display_name": "Python 3",
   "language": "python",
   "name": "python3"
  },
  "language_info": {
   "codemirror_mode": {
    "name": "ipython",
    "version": 3
   },
   "file_extension": ".py",
   "mimetype": "text/x-python",
   "name": "python",
   "nbconvert_exporter": "python",
   "pygments_lexer": "ipython3",
   "version": "3.6.5"
  }
 },
 "nbformat": 4,
 "nbformat_minor": 2
}
