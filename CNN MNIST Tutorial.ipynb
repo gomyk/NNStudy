{
 "cells": [
  {
   "cell_type": "code",
   "execution_count": 1,
   "metadata": {
    "scrolled": true
   },
   "outputs": [
    {
     "data": {
      "text/plain": [
       "<torch._C.Generator at 0x28335b72370>"
      ]
     },
     "execution_count": 1,
     "metadata": {},
     "output_type": "execute_result"
    }
   ],
   "source": [
    "import torch\n",
    "import torchvision\n",
    "import torchvision.transforms as transforms\n",
    "\n",
    "import matplotlib.pyplot as plt\n",
    "import numpy as np\n",
    "\n",
    "torch.manual_seed(2019)"
   ]
  },
  {
   "cell_type": "code",
   "execution_count": 2,
   "metadata": {},
   "outputs": [],
   "source": [
    "transform = transforms.Compose(\n",
    "    [transforms.ToTensor(),\n",
    "     transforms.Normalize((0.5,), (0.5,))])\n",
    "\n",
    "trainset = torchvision.datasets.MNIST(root='./data', train=True,\n",
    "                                        download=True, transform=transform)\n",
    "trainloader = torch.utils.data.DataLoader(trainset, batch_size=16,\n",
    "                                          shuffle=True, num_workers=2)\n",
    "\n",
    "testset = torchvision.datasets.MNIST(root='./data', train=False,\n",
    "                                       download=True, transform=transform)\n",
    "testloader = torch.utils.data.DataLoader(testset, batch_size=16,\n",
    "                                         shuffle=True, num_workers=2)"
   ]
  },
  {
   "cell_type": "code",
   "execution_count": 10,
   "metadata": {
    "scrolled": true
   },
   "outputs": [],
   "source": [
    "import torch.nn as nn \n",
    "import torch.nn.functional as F\n",
    "from torch.autograd import Variable\n",
    "\n",
    "import torch.optim as optim\n",
    "import time"
   ]
  },
  {
   "cell_type": "code",
   "execution_count": 4,
   "metadata": {},
   "outputs": [],
   "source": [
    "cnn1_channel = 64\n",
    "cnn2_channel = 64\n",
    "cnn3_channel = 128\n",
    "cnn4_channel = 128\n",
    "\n",
    "hidden1_size = 300\n",
    "out_size = 10\n",
    "epoch = 20"
   ]
  },
  {
   "cell_type": "code",
   "execution_count": 5,
   "metadata": {},
   "outputs": [],
   "source": [
    "criterion = nn.CrossEntropyLoss()\n",
    "def fit(epoch, phase, model, dataLoader):\n",
    "    if phase=='train':\n",
    "        vol=False\n",
    "        model.train()\n",
    "    else:\n",
    "        vol=True\n",
    "        model.eval()\n",
    "        \n",
    "    learning_loss=0.\n",
    "    learning_correct=0\n",
    "    \n",
    "    for i,(data,labels) in enumerate(dataLoader):\n",
    "        if phase=='train':\n",
    "            opt.zero_grad()\n",
    "        \n",
    "        data=Variable(data,vol).cuda()\n",
    "        labels=Variable(labels).cuda()\n",
    "        \n",
    "        outputs=model(data)\n",
    "        loss = criterion(outputs, labels)\n",
    "        learning_loss+=loss.item()*data.shape[0]\n",
    "        \n",
    "        _,preds=torch.max(outputs.data, 1)\n",
    "        learning_correct+=(labels==preds).sum().item()\n",
    "        \n",
    "        if phase=='train':\n",
    "            loss.backward()\n",
    "            opt.step()\n",
    "            \n",
    "    epoch_loss = learning_loss /len(dataLoader.dataset)\n",
    "    epoch_correct = learning_correct / len(dataLoader.dataset) * 100.\n",
    "            \n",
    "    print(f'phase : {phase:{5}} -> loss = {epoch_loss:{8}.{3}}, rate = {epoch_correct:{8}.{3}}%')"
   ]
  },
  {
   "cell_type": "code",
   "execution_count": 6,
   "metadata": {},
   "outputs": [],
   "source": [
    "class printData(nn.Module):\n",
    "    def forward(self,x):\n",
    "        print(x)\n",
    "        return x\n",
    "\n",
    "class basicCNN(nn.Module):\n",
    "    def __init__(self, nin, nout):\n",
    "        super(basicCNN, self).__init__()\n",
    "        self.model = nn.Sequential(\n",
    "            nn.Conv2d(nin, nout, 3, padding = 1),\n",
    "            nn.BatchNorm2d(nout),\n",
    "            nn.ReLU()\n",
    "        )\n",
    "        \n",
    "    def forward(self,x):\n",
    "        return self.model(x)\n",
    "\n",
    "class myNet(nn.Module):\n",
    "    def __init__(self):\n",
    "        super(myNet, self).__init__()\n",
    "        self.CNN = nn.Sequential(\n",
    "            basicCNN(1,cnn1_channel),\n",
    "            basicCNN(cnn1_channel, cnn2_channel),\n",
    "            nn.MaxPool2d(2,2),\n",
    "            basicCNN(cnn2_channel, cnn3_channel),\n",
    "            basicCNN(cnn3_channel, cnn4_channel),\n",
    "            nn.AvgPool2d(2,2)\n",
    "        )\n",
    "        self.FC = nn.Sequential(\n",
    "            nn.Linear(cnn4_channel*7*7, hidden1_size),\n",
    "            nn.Dropout(),\n",
    "            nn.ReLU(),\n",
    "            nn.Linear(hidden1_size,out_size),\n",
    "            nn.ReLU()\n",
    "        )\n",
    "        \n",
    "    def forward(self,x):\n",
    "        x=self.CNN(x)\n",
    "        x=x.view(-1,cnn4_channel*7*7)\n",
    "        x=self.FC(x)\n",
    "        return F.log_softmax(x, dim=1) "
   ]
  },
  {
   "cell_type": "code",
   "execution_count": 7,
   "metadata": {
    "scrolled": false
   },
   "outputs": [
    {
     "name": "stdout",
     "output_type": "stream",
     "text": [
      "myNet(\n",
      "  (CNN): Sequential(\n",
      "    (0): basicCNN(\n",
      "      (model): Sequential(\n",
      "        (0): Conv2d(1, 64, kernel_size=(3, 3), stride=(1, 1), padding=(1, 1))\n",
      "        (1): BatchNorm2d(64, eps=1e-05, momentum=0.1, affine=True, track_running_stats=True)\n",
      "        (2): ReLU()\n",
      "      )\n",
      "    )\n",
      "    (1): basicCNN(\n",
      "      (model): Sequential(\n",
      "        (0): Conv2d(64, 64, kernel_size=(3, 3), stride=(1, 1), padding=(1, 1))\n",
      "        (1): BatchNorm2d(64, eps=1e-05, momentum=0.1, affine=True, track_running_stats=True)\n",
      "        (2): ReLU()\n",
      "      )\n",
      "    )\n",
      "    (2): MaxPool2d(kernel_size=2, stride=2, padding=0, dilation=1, ceil_mode=False)\n",
      "    (3): basicCNN(\n",
      "      (model): Sequential(\n",
      "        (0): Conv2d(64, 128, kernel_size=(3, 3), stride=(1, 1), padding=(1, 1))\n",
      "        (1): BatchNorm2d(128, eps=1e-05, momentum=0.1, affine=True, track_running_stats=True)\n",
      "        (2): ReLU()\n",
      "      )\n",
      "    )\n",
      "    (4): basicCNN(\n",
      "      (model): Sequential(\n",
      "        (0): Conv2d(128, 128, kernel_size=(3, 3), stride=(1, 1), padding=(1, 1))\n",
      "        (1): BatchNorm2d(128, eps=1e-05, momentum=0.1, affine=True, track_running_stats=True)\n",
      "        (2): ReLU()\n",
      "      )\n",
      "    )\n",
      "    (5): AvgPool2d(kernel_size=2, stride=2, padding=0)\n",
      "  )\n",
      "  (FC): Sequential(\n",
      "    (0): Linear(in_features=6272, out_features=300, bias=True)\n",
      "    (1): Dropout(p=0.5, inplace=False)\n",
      "    (2): ReLU()\n",
      "    (3): Linear(in_features=300, out_features=10, bias=True)\n",
      "    (4): ReLU()\n",
      "  )\n",
      ")\n"
     ]
    }
   ],
   "source": [
    "net = myNet().cuda()\n",
    "print(net)\n",
    "opt = optim.SGD(net.parameters(), lr=0.01, momentum=0.9)"
   ]
  },
  {
   "cell_type": "code",
   "execution_count": null,
   "metadata": {},
   "outputs": [
    {
     "name": "stdout",
     "output_type": "stream",
     "text": [
      "epoch : 0\n",
      "phase : train -> loss =   0.0143, rate =     99.6%\n",
      "phase : eval  -> loss =   0.0179, rate =     99.5%\n",
      "time : 41.9\n",
      "\n",
      "epoch : 1\n",
      "phase : train -> loss =   0.0137, rate =     99.6%\n",
      "phase : eval  -> loss =   0.0207, rate =     99.4%\n",
      "time : 41.6\n",
      "\n",
      "epoch : 2\n",
      "phase : train -> loss =   0.0105, rate =     99.7%\n",
      "phase : eval  -> loss =   0.0185, rate =     99.5%\n",
      "time : 41.6\n",
      "\n",
      "epoch : 3\n"
     ]
    }
   ],
   "source": [
    "for e in range(epoch):\n",
    "    print(f\"epoch : {e}\")\n",
    "    t=time.time()\n",
    "    fit(e,\"train\",net, trainloader)\n",
    "    fit(e,\"eval\",net, testloader)\n",
    "    print(f\"time : {(time.time()-t):.{3}}\")\n",
    "    print()"
   ]
  }
 ],
 "metadata": {
  "kernelspec": {
   "display_name": "Python 3",
   "language": "python",
   "name": "python3"
  },
  "language_info": {
   "codemirror_mode": {
    "name": "ipython",
    "version": 3
   },
   "file_extension": ".py",
   "mimetype": "text/x-python",
   "name": "python",
   "nbconvert_exporter": "python",
   "pygments_lexer": "ipython3",
   "version": "3.6.5"
  }
 },
 "nbformat": 4,
 "nbformat_minor": 2
}
