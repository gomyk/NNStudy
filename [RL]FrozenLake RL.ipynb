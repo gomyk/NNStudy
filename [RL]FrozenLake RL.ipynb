{
 "cells": [
  {
   "cell_type": "code",
   "execution_count": 74,
   "metadata": {},
   "outputs": [],
   "source": [
    "import gym\n",
    "import numpy as np\n",
    "\n",
    "import torch\n",
    "import torch.nn as nn\n",
    "import torch.optim as optim\n",
    "\n",
    "import random\n",
    "\n",
    "HIDDEN = 128\n",
    "PERCENTILE= 30\n",
    "BATCH_SIZE = 100\n",
    "DISCOUNT = 0.95\n",
    "DECAY = 0.99"
   ]
  },
  {
   "cell_type": "code",
   "execution_count": 46,
   "metadata": {},
   "outputs": [],
   "source": [
    "class OneHotObsWrapper(gym.ObservationWrapper):\n",
    "    def __init__(self,env):\n",
    "        super(OneHotObsWrapper, self).__init__(env)\n",
    "        self.obs_size = env.observation_space.n\n",
    "        self.observation_space = gym.spaces.Box(low = 0.0, high = 1.0, shape=(self.obs_size,),dtype=np.float32)\n",
    "        \n",
    "    def observation(self, obs):\n",
    "        res = np.zeros((self.obs_size,))\n",
    "        res[obs] = 1.0\n",
    "        return res"
   ]
  },
  {
   "cell_type": "code",
   "execution_count": 47,
   "metadata": {},
   "outputs": [],
   "source": [
    "class Net(nn.Module):\n",
    "    def __init__(self, in_size, hidden, out_size):\n",
    "        super(Net, self).__init__()\n",
    "        self.net = nn.Sequential(\n",
    "            nn.Linear(in_size, hidden),\n",
    "            nn.ReLU(),\n",
    "            nn.Linear(hidden, out_size)\n",
    "        )\n",
    "    def forward(self, x):\n",
    "        return self.net(x)"
   ]
  },
  {
   "cell_type": "code",
   "execution_count": 48,
   "metadata": {},
   "outputs": [],
   "source": [
    "def get_batch(env, net, batch_size):\n",
    "    batch = []\n",
    "    steps = []\n",
    "    reward = 0\n",
    "    sm = nn.Softmax(dim = 1)\n",
    "    obs = env.reset()\n",
    "    while True:\n",
    "        obs_ = torch.FloatTensor([obs])\n",
    "        action_ = sm(net(obs_)).data.numpy()[0]\n",
    "        action = np.random.choice(len(action_), p=action_)\n",
    "        next_obs, rew, done, _ = env.step(action)\n",
    "        reward+=rew\n",
    "        steps.append((obs, action))\n",
    "        if done:\n",
    "            batch.append((rew*(DISCOUNT**len(steps)), steps))\n",
    "            steps=[]\n",
    "            reward=0\n",
    "            next_obs = env.reset()\n",
    "            if len(batch) == batch_size:\n",
    "                yield batch\n",
    "                batch = []\n",
    "        obs= next_obs"
   ]
  },
  {
   "cell_type": "code",
   "execution_count": 85,
   "metadata": {},
   "outputs": [],
   "source": [
    "def filter_batch(batch, saved):\n",
    "    mean = np.array(list(map(lambda ep: ep[0],batch)))\n",
    "    mean = mean[mean>0].shape[0]\n",
    "    \n",
    "    batch.extend(saved)\n",
    "    rews= list(map(lambda ep: ep[0],batch))\n",
    "    threshold = rews[np.argsort(rews)[-PERCENTILE]]\n",
    "    \n",
    "    acts = []\n",
    "    obss = []\n",
    "    top_batch = []\n",
    "    \n",
    "    for episode in batch:\n",
    "        if episode[0] == 0.0  or episode[0] < threshold:\n",
    "            continue\n",
    "        obss.extend(map(lambda step:step[0], episode[1]))\n",
    "        acts.extend(map(lambda step:step[1], episode[1]))\n",
    "        ep = (episode[0]*DECAY, episode[1])\n",
    "        top_batch.append(ep)\n",
    "    \n",
    "    return torch.FloatTensor(obss), torch.LongTensor(acts), top_batch, threshold, mean"
   ]
  },
  {
   "cell_type": "code",
   "execution_count": 88,
   "metadata": {
    "scrolled": true
   },
   "outputs": [
    {
     "name": "stdout",
     "output_type": "stream",
     "text": [
      "0 saved = 1, loss = 1.3778, threshold = 0.0000, mean = 1.0000\n",
      "1 saved = 4, loss = 1.3353, threshold = 0.0000, mean = 3.0000\n",
      "2 saved = 4, loss = 1.2860, threshold = 0.0000, mean = 0.0000\n",
      "3 saved = 9, loss = 1.2782, threshold = 0.0000, mean = 5.0000\n",
      "4 saved = 18, loss = 1.2349, threshold = 0.0000, mean = 9.0000\n",
      "5 saved = 27, loss = 1.2026, threshold = 0.0000, mean = 9.0000\n",
      "6 saved = 30, loss = 1.1173, threshold = 0.4638, mean = 13.0000\n",
      "7 saved = 30, loss = 1.0544, threshold = 0.5810, mean = 11.0000\n",
      "8 saved = 32, loss = 0.9869, threshold = 0.5987, mean = 21.0000\n",
      "9 saved = 30, loss = 0.8948, threshold = 0.6373, mean = 27.0000\n",
      "10 saved = 32, loss = 0.8266, threshold = 0.6634, mean = 36.0000\n",
      "11 saved = 31, loss = 0.6856, threshold = 0.6914, mean = 32.0000\n",
      "12 saved = 38, loss = 0.6057, threshold = 0.6983, mean = 40.0000\n",
      "13 saved = 30, loss = 0.5243, threshold = 0.7133, mean = 41.0000\n",
      "14 saved = 36, loss = 0.4664, threshold = 0.7205, mean = 50.0000\n",
      "15 saved = 38, loss = 0.4137, threshold = 0.7277, mean = 55.0000\n",
      "16 saved = 50, loss = 0.3685, threshold = 0.7277, mean = 59.0000\n",
      "17 saved = 37, loss = 0.3319, threshold = 0.7351, mean = 60.0000\n",
      "18 saved = 45, loss = 0.2969, threshold = 0.7351, mean = 65.0000\n",
      "19 saved = 52, loss = 0.2664, threshold = 0.7351, mean = 72.0000\n",
      "20 saved = 67, loss = 0.2513, threshold = 0.7351, mean = 79.0000\n",
      "21 saved = 69, loss = 0.2281, threshold = 0.7351, mean = 76.0000\n",
      "22 saved = 81, loss = 0.2042, threshold = 0.7351, mean = 88.0000\n",
      "23 saved = 88, loss = 0.1943, threshold = 0.7351, mean = 90.0000\n",
      "24 saved = 88, loss = 0.1830, threshold = 0.7351, mean = 95.0000\n",
      "25 saved = 90, loss = 0.1650, threshold = 0.7351, mean = 95.0000\n",
      "26 saved = 90, loss = 0.1541, threshold = 0.7351, mean = 95.0000\n",
      "27 saved = 95, loss = 0.1398, threshold = 0.7351, mean = 97.0000\n",
      "28 saved = 96, loss = 0.1176, threshold = 0.7351, mean = 97.0000\n",
      "29 saved = 99, loss = 0.1130, threshold = 0.7351, mean = 99.0000\n",
      "30 saved = 96, loss = 0.0969, threshold = 0.7351, mean = 96.0000\n",
      "31 saved = 100, loss = 0.1304, threshold = 0.7351, mean = 100.0000\n",
      "Solved\n"
     ]
    }
   ],
   "source": [
    "if __name__ == \"__main__\":\n",
    "#     random.seed(12345)\n",
    "#     env = gym.envs.toy_text.frozen_lake.FrozenLakeEnv(is_slippery=False)\n",
    "#     env = gym.wrappers.TimeLimit(env, max_episode_steps=100)\n",
    "#     env = OneHotObsWrapper(env)\n",
    "    env = OneHotObsWrapper(gym.make(\"FrozenLake-v0\"))\n",
    "    net = Net(env.observation_space.shape[0], HIDDEN, env.action_space.n)\n",
    "    CELoss = nn.CrossEntropyLoss()\n",
    "    optimizer = optim.Adam(net.parameters(), lr= 0.01)\n",
    "    \n",
    "    saved = []\n",
    "    for i, batch in enumerate(get_batch(env, net, BATCH_SIZE)):\n",
    "        obss, acts, saved, threshold, mean = filter_batch(batch, saved)\n",
    "        optimizer.zero_grad()\n",
    "        action_pred = net(obss)\n",
    "        loss = CELoss(action_pred, acts)\n",
    "        loss.backward()\n",
    "        optimizer.step()\n",
    "    \n",
    "        print(\"%d saved = %d, loss = %.4f, threshold = %.4f, mean = %.4f\"%(i, len(saved), loss, threshold, mean))\n",
    "        \n",
    "        if mean > 99:\n",
    "            print(\"Solved\")\n",
    "            break"
   ]
  },
  {
   "cell_type": "code",
   "execution_count": null,
   "metadata": {},
   "outputs": [],
   "source": []
  }
 ],
 "metadata": {
  "kernelspec": {
   "display_name": "Python 3",
   "language": "python",
   "name": "python3"
  },
  "language_info": {
   "codemirror_mode": {
    "name": "ipython",
    "version": 3
   },
   "file_extension": ".py",
   "mimetype": "text/x-python",
   "name": "python",
   "nbconvert_exporter": "python",
   "pygments_lexer": "ipython3",
   "version": "3.6.5"
  }
 },
 "nbformat": 4,
 "nbformat_minor": 2
}
