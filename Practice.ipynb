{
 "cells": [
  {
   "cell_type": "code",
   "execution_count": 70,
   "metadata": {},
   "outputs": [],
   "source": [
    "import torch\n",
    "import torchvision\n",
    "import torch.nn as nn\n",
    "\n",
    "import torch.nn.functional as F\n",
    "import torch.optim as optimizer\n",
    "\n",
    "import torchvision.transforms as transforms\n",
    "\n",
    "import matplotlib.pyplot as plt\n",
    "import seaborn as sns"
   ]
  },
  {
   "cell_type": "code",
   "execution_count": 55,
   "metadata": {},
   "outputs": [],
   "source": [
    "trans = transforms.Compose([transforms.ToTensor(), transforms.Normalize((0.5,),(0.5,))])"
   ]
  },
  {
   "cell_type": "code",
   "execution_count": 63,
   "metadata": {
    "scrolled": true
   },
   "outputs": [
    {
     "name": "stdout",
     "output_type": "stream",
     "text": [
      "Downloading http://fashion-mnist.s3-website.eu-central-1.amazonaws.com/train-images-idx3-ubyte.gz to ./data\\FashionMNIST\\raw\\train-images-idx3-ubyte.gz\n"
     ]
    },
    {
     "name": "stderr",
     "output_type": "stream",
     "text": [
      "\n",
      "\n",
      "\n",
      "\n",
      "0it [00:00, ?it/s]\n",
      "\n",
      "\n",
      "\n",
      "  0%|                                                                                     | 0/26421880 [00:00<?, ?it/s]\n",
      "\n",
      "\n",
      "\n",
      "  0%|                                                                      | 16384/26421880 [00:01<10:01, 43894.67it/s]\n",
      "\n",
      "\n",
      "\n",
      "  0%|▏                                                                     | 49152/26421880 [00:01<08:31, 51588.26it/s]\n",
      "\n",
      "\n",
      "\n",
      "  0%|▎                                                                    | 106496/26421880 [00:01<06:47, 64514.01it/s]\n",
      "\n",
      "\n",
      "\n",
      "  1%|▌                                                                    | 229376/26421880 [00:02<05:08, 85031.39it/s]\n",
      "\n",
      "\n",
      "\n",
      "  1%|▉                                                                   | 360448/26421880 [00:02<03:56, 109981.67it/s]\n",
      "\n",
      "\n",
      "\n",
      "  2%|█▌                                                                  | 622592/26421880 [00:03<02:55, 147197.25it/s]\n",
      "\n",
      "\n",
      "\n",
      "  4%|██▉                                                                | 1171456/26421880 [00:03<02:05, 201753.01it/s]\n",
      "\n",
      "\n",
      "\n",
      "  8%|█████▌                                                             | 2187264/26421880 [00:04<01:30, 267940.72it/s]\n",
      "\n",
      "\n",
      "\n",
      " 16%|██████████▌                                                        | 4186112/26421880 [00:04<00:58, 377622.58it/s]\n",
      "\n",
      "\n",
      "\n",
      " 21%|██████████████                                                     | 5529600/26421880 [00:04<00:39, 533026.02it/s]\n",
      "\n",
      "\n",
      "\n",
      " 24%|████████████████                                                   | 6316032/26421880 [00:04<00:28, 705868.73it/s]\n",
      "\n",
      "\n",
      "\n",
      " 26%|█████████████████▋                                                 | 6987776/26421880 [00:05<00:20, 964625.08it/s]\n",
      "\n",
      "\n",
      "\n",
      " 30%|███████████████████▌                                              | 7815168/26421880 [00:05<00:15, 1212408.60it/s]\n",
      "\n",
      "\n",
      "\n",
      " 32%|█████████████████████▎                                            | 8527872/26421880 [00:05<00:11, 1611453.94it/s]\n",
      "\n",
      "\n",
      "\n",
      " 35%|███████████████████████▍                                          | 9371648/26421880 [00:05<00:08, 2096788.06it/s]\n",
      "\n",
      "\n",
      "\n",
      " 38%|████████████████████████▉                                         | 9969664/26421880 [00:05<00:07, 2203715.53it/s]\n",
      "\n",
      "\n",
      "\n",
      " 41%|██████████████████████████▋                                      | 10870784/26421880 [00:05<00:05, 2841421.95it/s]\n",
      "\n",
      "\n",
      "\n",
      " 43%|████████████████████████████▎                                    | 11485184/26421880 [00:06<00:05, 2650075.13it/s]\n",
      "\n",
      "\n",
      "\n",
      " 47%|██████████████████████████████▊                                  | 12533760/26421880 [00:06<00:04, 3413404.30it/s]\n",
      "\n",
      "\n",
      "\n",
      " 50%|████████████████████████████████▍                                | 13197312/26421880 [00:06<00:04, 3026394.26it/s]\n",
      "\n",
      "\n",
      "\n",
      " 54%|███████████████████████████████████▏                             | 14278656/26421880 [00:06<00:03, 3857366.24it/s]\n",
      "\n",
      "\n",
      "\n",
      " 57%|████████████████████████████████████▊                            | 14974976/26421880 [00:06<00:03, 3310228.45it/s]\n",
      "\n",
      "\n",
      "\n",
      " 61%|███████████████████████████████████████▌                         | 16105472/26421880 [00:07<00:02, 4197317.07it/s]\n",
      "\n",
      "\n",
      "\n",
      " 64%|█████████████████████████████████████████▍                       | 16834560/26421880 [00:07<00:02, 3521949.64it/s]\n",
      "\n",
      "\n",
      "\n",
      " 68%|████████████████████████████████████████████▏                    | 17965056/26421880 [00:07<00:01, 4434893.96it/s]\n",
      "\n",
      "\n",
      "\n",
      " 71%|██████████████████████████████████████████████                   | 18718720/26421880 [00:07<00:02, 3718608.40it/s]\n",
      "\n",
      "\n",
      "\n",
      " 75%|████████████████████████████████████████████████▋                | 19767296/26421880 [00:07<00:01, 4608519.43it/s]\n",
      "\n",
      "\n",
      "\n",
      " 78%|██████████████████████████████████████████████████▍              | 20504576/26421880 [00:08<00:01, 3814305.94it/s]\n",
      "\n",
      "\n",
      "\n",
      " 82%|████████████████████████████████████████████████████▉            | 21536768/26421880 [00:08<00:01, 4699266.04it/s]\n",
      "\n",
      "\n",
      "\n",
      " 84%|██████████████████████████████████████████████████████▊          | 22265856/26421880 [00:08<00:01, 3892804.84it/s]\n",
      "\n",
      "\n",
      "\n",
      " 89%|█████████████████████████████████████████████████████████▌       | 23412736/26421880 [00:08<00:00, 4850415.22it/s]\n",
      "\n",
      "\n",
      "\n",
      " 91%|███████████████████████████████████████████████████████████▍     | 24174592/26421880 [00:08<00:00, 3964602.38it/s]\n",
      "\n",
      "\n",
      "\n",
      " 96%|██████████████████████████████████████████████████████████████▏  | 25296896/26421880 [00:08<00:00, 4913950.00it/s]\n",
      "\n",
      "\n",
      "\n",
      " 99%|████████████████████████████████████████████████████████████████▏| 26066944/26421880 [00:09<00:00, 4042706.47it/s]"
     ]
    },
    {
     "name": "stdout",
     "output_type": "stream",
     "text": [
      "Extracting ./data\\FashionMNIST\\raw\\train-images-idx3-ubyte.gz to ./data\\FashionMNIST\\raw\n",
      "Downloading http://fashion-mnist.s3-website.eu-central-1.amazonaws.com/train-labels-idx1-ubyte.gz to ./data\\FashionMNIST\\raw\\train-labels-idx1-ubyte.gz\n"
     ]
    },
    {
     "name": "stderr",
     "output_type": "stream",
     "text": [
      "\n",
      "\n",
      "\n",
      "\n",
      "\n",
      "0it [00:00, ?it/s]\n",
      "\n",
      "\n",
      "\n",
      "\n",
      "  0%|                                                                                        | 0/29515 [00:00<?, ?it/s]\n",
      "\n",
      "\n",
      "\n",
      "\n",
      "32768it [00:01, 28336.18it/s]                                                                                          \n"
     ]
    },
    {
     "name": "stdout",
     "output_type": "stream",
     "text": [
      "Extracting ./data\\FashionMNIST\\raw\\train-labels-idx1-ubyte.gz to ./data\\FashionMNIST\\raw\n",
      "Downloading http://fashion-mnist.s3-website.eu-central-1.amazonaws.com/t10k-images-idx3-ubyte.gz to ./data\\FashionMNIST\\raw\\t10k-images-idx3-ubyte.gz\n"
     ]
    },
    {
     "name": "stderr",
     "output_type": "stream",
     "text": [
      "\n",
      "\n",
      "\n",
      "\n",
      "\n",
      "0it [00:00, ?it/s]\n",
      "\n",
      "\n",
      "\n",
      "\n",
      "  0%|                                                                                      | 0/4422102 [00:00<?, ?it/s]\n",
      "\n",
      "\n",
      "\n",
      "\n",
      "  0%|▎                                                                      | 16384/4422102 [00:01<01:41, 43606.33it/s]\n",
      "\n",
      "\n",
      "\n",
      "\n",
      "  1%|▊                                                                      | 49152/4422102 [00:01<01:25, 51351.03it/s]\n",
      "\n",
      "\n",
      "\n",
      "\n",
      "  2%|█▋                                                                    | 106496/4422102 [00:01<01:07, 64147.20it/s]\n",
      "\n",
      "\n",
      "\n",
      "\n",
      "  5%|███▋                                                                  | 229376/4422102 [00:02<00:49, 84567.89it/s]\n",
      "\n",
      "\n",
      "\n",
      "\n",
      "  8%|█████▌                                                               | 360448/4422102 [00:02<00:37, 109488.36it/s]\n",
      "\n",
      "\n",
      "\n",
      "\n",
      " 14%|█████████▋                                                           | 622592/4422102 [00:03<00:25, 146556.07it/s]\n",
      "\n",
      "\n",
      "\n",
      "\n",
      " 26%|█████████████████▊                                                  | 1155072/4422102 [00:03<00:16, 200460.14it/s]\n",
      "\n",
      "\n",
      "\n",
      "\n",
      " 45%|██████████████████████████████▋                                     | 1998848/4422102 [00:03<00:08, 272875.03it/s]\n",
      "\n",
      "\n",
      "\n",
      "\n",
      "4423680it [00:04, 1038764.09it/s]                                                                                      \n"
     ]
    },
    {
     "name": "stdout",
     "output_type": "stream",
     "text": [
      "Extracting ./data\\FashionMNIST\\raw\\t10k-images-idx3-ubyte.gz to ./data\\FashionMNIST\\raw\n",
      "Downloading http://fashion-mnist.s3-website.eu-central-1.amazonaws.com/t10k-labels-idx1-ubyte.gz to ./data\\FashionMNIST\\raw\\t10k-labels-idx1-ubyte.gz\n"
     ]
    },
    {
     "name": "stderr",
     "output_type": "stream",
     "text": [
      "\n",
      "\n",
      "\n",
      "\n",
      "\n",
      "0it [00:00, ?it/s]\n",
      "\n",
      "\n",
      "\n",
      "\n",
      "8192it [00:00, 10413.93it/s]                                                                                           \n"
     ]
    },
    {
     "name": "stdout",
     "output_type": "stream",
     "text": [
      "Extracting ./data\\FashionMNIST\\raw\\t10k-labels-idx1-ubyte.gz to ./data\\FashionMNIST\\raw\n",
      "Processing...\n",
      "Done!\n"
     ]
    },
    {
     "name": "stderr",
     "output_type": "stream",
     "text": [
      "\n",
      "\n",
      "\n",
      "\n",
      "26427392it [00:28, 4042706.47it/s]                                                                                     "
     ]
    }
   ],
   "source": [
    "trainData = torchvision.datasets.FashionMNIST('./data',download=True,transform=trans,train=True)\n",
    "testData = torchvision.datasets.FashionMNIST('./data',download=True,transform=trans,train=False)"
   ]
  },
  {
   "cell_type": "code",
   "execution_count": 64,
   "metadata": {},
   "outputs": [],
   "source": [
    "trainLoader = torch.utils.data.DataLoader(trainData, batch_size=64, shuffle=True)\n",
    "testLoader = torch.utils.data.DataLoader(testData, batch_size=64, shuffle=True)"
   ]
  },
  {
   "cell_type": "code",
   "execution_count": 157,
   "metadata": {},
   "outputs": [
    {
     "data": {
      "image/png": "[encoded data removed]",
      "text/plain": [
       "<Figure size 576x576 with 3 Axes>"
      ]
     },
     "metadata": {},
     "output_type": "display_data"
    }
   ],
   "source": [
    "a = next(iter(trainLoader))\n",
    "im = a[0]*0.5+0.5\n",
    "fig = plt.figure(figsize=(8,8))\n",
    "\n",
    "fig.add_subplot(2,2,1)\n",
    "plt.imshow(im[0][0],cmap='gray')\n",
    "\n",
    "fig.add_subplot(2,2,2)\n",
    "plt.imshow(im[1][0],cmap='gray')\n",
    "\n",
    "fig.add_subplot(2,2,3)\n",
    "plt.imshow(im[2][0],cmap='gray')\n",
    "\n",
    "plt.show()"
   ]
  },
  {
   "cell_type": "code",
   "execution_count": 129,
   "metadata": {},
   "outputs": [
    {
     "data": {
      "text/plain": [
       "torch.Size([1, 28, 28])"
      ]
     },
     "execution_count": 129,
     "metadata": {},
     "output_type": "execute_result"
    }
   ],
   "source": [
    "im[0].shape"
   ]
  }
 ],
 "metadata": {
  "kernelspec": {
   "display_name": "Python 3",
   "language": "python",
   "name": "python3"
  },
  "language_info": {
   "codemirror_mode": {
    "name": "ipython",
    "version": 3
   },
   "file_extension": ".py",
   "mimetype": "text/x-python",
   "name": "python",
   "nbconvert_exporter": "python",
   "pygments_lexer": "ipython3",
   "version": "3.6.5"
  }
 },
 "nbformat": 4,
 "nbformat_minor": 2
}
