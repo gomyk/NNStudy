{
  "nbformat": 4,
  "nbformat_minor": 0,
  "metadata": {
    "colab": {
      "name": "RL_NN_Impl.ipynb",
      "provenance": [],
      "authorship_tag": "ABX9TyOow57gbUlDNU1R7NmROL2W",
      "include_colab_link": true
    },
    "kernelspec": {
      "name": "python3",
      "display_name": "Python 3"
    },
    "accelerator": "GPU"
  },
  "cells": [
    {
      "cell_type": "markdown",
      "metadata": {
        "id": "view-in-github",
        "colab_type": "text"
      },
      "source": [
        "<a href=\"https://colab.research.google.com/github/henry-bokyum-kim/NNStudy/blob/master/RL_NN_Impl.ipynb\" target=\"_parent\"><img src=\"https://colab.research.google.com/assets/colab-badge.svg\" alt=\"Open In Colab\"/></a>"
      ]
    },
    {
      "cell_type": "code",
      "metadata": {
        "id": "m6QDytnJc1V5",
        "colab_type": "code",
        "colab": {
          "base_uri": "https://localhost:8080/",
          "height": 577
        },
        "outputId": "1bfd9913-ad0a-44cb-810c-10dbbec5f810"
      },
      "source": [
        "!pip install gym pyvirtualdisplay > /dev/null 2>&1\n",
        "!apt-get install -y xvfb python-opengl ffmpeg > /dev/null 2>&1\n",
        "!apt-get install x11-utils\n",
        "\n",
        "import gym\n",
        "from gym import logger as gymlogger\n",
        "from gym.wrappers import Monitor\n",
        "gymlogger.set_level(40)\n",
        "\n",
        "import math\n",
        "import glob\n",
        "import io\n",
        "import base64\n",
        "from IPython.display import HTML\n",
        "\n",
        "from pyvirtualdisplay import Display\n",
        "from IPython import display as ipythondisplay\n",
        "\n",
        "display = Display(visible=0, size=(1400,900),)\n",
        "display.start()"
      ],
      "execution_count": 1,
      "outputs": [
        {
          "output_type": "stream",
          "text": [
            "Reading package lists... Done\n",
            "Building dependency tree       \n",
            "Reading state information... Done\n",
            "The following package was automatically installed and is no longer required:\n",
            "  libnvidia-common-430\n",
            "Use 'apt autoremove' to remove it.\n",
            "The following additional packages will be installed:\n",
            "  libxxf86dga1\n",
            "Suggested packages:\n",
            "  mesa-utils\n",
            "The following NEW packages will be installed:\n",
            "  libxxf86dga1 x11-utils\n",
            "0 upgraded, 2 newly installed, 0 to remove and 7 not upgraded.\n",
            "Need to get 209 kB of archives.\n",
            "After this operation, 711 kB of additional disk space will be used.\n",
            "Get:1 http://archive.ubuntu.com/ubuntu bionic/main amd64 libxxf86dga1 amd64 2:1.1.4-1 [13.7 kB]\n",
            "Get:2 http://archive.ubuntu.com/ubuntu bionic/main amd64 x11-utils amd64 7.7+3build1 [196 kB]\n",
            "Fetched 209 kB in 2s (126 kB/s)\n",
            "Selecting previously unselected package libxxf86dga1:amd64.\n",
            "(Reading database ... 148036 files and directories currently installed.)\n",
            "Preparing to unpack .../libxxf86dga1_2%3a1.1.4-1_amd64.deb ...\n",
            "Unpacking libxxf86dga1:amd64 (2:1.1.4-1) ...\n",
            "Selecting previously unselected package x11-utils.\n",
            "Preparing to unpack .../x11-utils_7.7+3build1_amd64.deb ...\n",
            "Unpacking x11-utils (7.7+3build1) ...\n",
            "Setting up libxxf86dga1:amd64 (2:1.1.4-1) ...\n",
            "Setting up x11-utils (7.7+3build1) ...\n",
            "Processing triggers for man-db (2.8.3-2ubuntu0.1) ...\n",
            "Processing triggers for libc-bin (2.27-3ubuntu1) ...\n"
          ],
          "name": "stdout"
        },
        {
          "output_type": "execute_result",
          "data": {
            "text/plain": [
              "<Display cmd_param=['Xvfb', '-br', '-nolisten', 'tcp', '-screen', '0', '1400x900x24', ':1001'] cmd=['Xvfb', '-br', '-nolisten', 'tcp', '-screen', '0', '1400x900x24', ':1001'] oserror=None return_code=None stdout=\"None\" stderr=\"None\" timeout_happened=False>"
            ]
          },
          "metadata": {
            "tags": []
          },
          "execution_count": 1
        }
      ]
    },
    {
      "cell_type": "code",
      "metadata": {
        "id": "U_uitgnKdJ8k",
        "colab_type": "code",
        "colab": {}
      },
      "source": [
        "import numpy as np\n",
        "import torch\n",
        "import torch.nn as nn\n",
        "import torch.optim as optim\n",
        "\n",
        "HIDDEN = 128\n",
        "BATCH_SIZE = 32\n",
        "PERCENTILE = 50\n",
        "\n",
        "class Net(nn.Module):\n",
        "  def __init__(self, obs_size, hidden, action_size):\n",
        "    super(Net, self).__init__()\n",
        "    self.net=nn.Sequential(\n",
        "        nn.Linear(obs_size, hidden),\n",
        "        nn.ReLU(),\n",
        "        nn.Linear(hidden, action_size),\n",
        "        nn.Softmax(dim=1)\n",
        "    )\n",
        "\n",
        "  def forward(self, x):\n",
        "    return self.net(x)"
      ],
      "execution_count": 0,
      "outputs": []
    },
    {
      "cell_type": "code",
      "metadata": {
        "id": "mS1SOTZceS7n",
        "colab_type": "code",
        "colab": {}
      },
      "source": [
        "def get_batch(batch_size, env):\n",
        "  batch = []\n",
        "  reward = 0.0\n",
        "  obs = env.reset()\n",
        "  steps = []\n",
        "  \n",
        "  while True:\n",
        "    obs_v = torch.FloatTensor([obs])\n",
        "    action_v = net(obs_v).data.numpy()[0]\n",
        "    action = np.random.choice(env.action_space.n, p=action_v)\n",
        "\n",
        "    next_obs, rew, done, _ = env.step(action)\n",
        "    reward += rew\n",
        "    steps.append((obs,action))\n",
        "\n",
        "    if done:\n",
        "      batch.append((reward, steps))\n",
        "      reward = 0.0\n",
        "      next_obs = env.reset()\n",
        "      steps = []\n",
        "      if len(batch) == batch_size:\n",
        "        yield batch\n",
        "        batch=[]\n",
        "      obs = next_obs"
      ],
      "execution_count": 0,
      "outputs": []
    },
    {
      "cell_type": "code",
      "metadata": {
        "id": "1nSYB-BTlk5P",
        "colab_type": "code",
        "colab": {}
      },
      "source": [
        "def filter_batch(batch):\n",
        "  rews = list(map(lambda episode: episode[0],batch))\n",
        "  rews_threshold = np.percentile(rews, PERCENTILE)\n",
        "  rews_mean = np.mean(rews)\n",
        "\n",
        "  ret_action = []\n",
        "  ret_obs = []\n",
        "\n",
        "  for scene in batch:\n",
        "    if scene[0] < rews_threshold:\n",
        "      continue\n",
        "    ret_obs.extend(map(lambda step: step[0], scene[1]))\n",
        "    ret_action.extend(map(lambda step: step[1], scene[1]))\n",
        "\n",
        "  return torch.FloatTensor(ret_obs), torch.FloatTensor(ret_action), rews_threshold, rews_mean"
      ],
      "execution_count": 0,
      "outputs": []
    },
    {
      "cell_type": "code",
      "metadata": {
        "id": "Sgie1822fGJD",
        "colab_type": "code",
        "colab": {}
      },
      "source": [
        "env = gym.make(\"CartPole-v0\")\n",
        "obs = env.reset()\n",
        "net = Net(env.observation_space.shape[0], HIDDEN, env.action_space.n)\n",
        "\n"
      ],
      "execution_count": 0,
      "outputs": []
    },
    {
      "cell_type": "code",
      "metadata": {
        "id": "Q5Bf4hpml22W",
        "colab_type": "code",
        "colab": {
          "base_uri": "https://localhost:8080/",
          "height": 35
        },
        "outputId": "74cdbfe0-9401-49cd-94c5-c8dd67ae8f10"
      },
      "source": [
        "for i,batch in enumerate(get_batch(BATCH_SIZE, env)):\n",
        "  obs, actions, threshold, mean = filter_batch(batch)\n",
        "  if i == 0:\n",
        "    print(obs.shape, actions.shape, threshold, mean)\n",
        "    break"
      ],
      "execution_count": 69,
      "outputs": [
        {
          "output_type": "stream",
          "text": [
            "torch.Size([496, 4]) torch.Size([496]) 19.5 21.9375\n"
          ],
          "name": "stdout"
        }
      ]
    }
  ]
}