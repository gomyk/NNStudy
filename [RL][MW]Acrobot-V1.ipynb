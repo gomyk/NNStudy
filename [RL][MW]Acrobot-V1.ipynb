{
  "nbformat": 4,
  "nbformat_minor": 0,
  "metadata": {
    "colab": {
      "name": "RL_NN_Impl.ipynb",
      "provenance": [],
      "include_colab_link": true
    },
    "kernelspec": {
      "name": "python3",
      "display_name": "Python 3"
    },
    "accelerator": "GPU"
  },
  "cells": [
    {
      "cell_type": "markdown",
      "metadata": {
        "id": "view-in-github",
        "colab_type": "text"
      },
      "source": [
        "<a href=\"https://colab.research.google.com/github/gomyk/NNStudy/blob/moonwon/%5BRL%5D%5BMW%5DAcrobot-V1.ipynb\" target=\"_parent\"><img src=\"https://colab.research.google.com/assets/colab-badge.svg\" alt=\"Open In Colab\"/></a>"
      ]
    },
    {
      "cell_type": "code",
      "metadata": {
        "id": "m6QDytnJc1V5",
        "colab_type": "code",
        "outputId": "eb638f93-ca0f-4730-98c5-ef61b1c77098",
        "colab": {
          "base_uri": "https://localhost:8080/",
          "height": 199
        }
      },
      "source": [
        "!pip install gym pyvirtualdisplay > /dev/null 2>&1\n",
        "!apt-get install -y xvfb python-opengl ffmpeg > /dev/null 2>&1\n",
        "!apt-get install x11-utils\n",
        "\n",
        "import gym\n",
        "from gym import logger as gymlogger\n",
        "from gym.wrappers import Monitor\n",
        "gymlogger.set_level(40)\n",
        "\n",
        "import math\n",
        "import glob\n",
        "import io\n",
        "import base64\n",
        "from IPython.display import HTML\n",
        "\n",
        "from pyvirtualdisplay import Display\n",
        "from IPython import display as ipythondisplay\n",
        "\n",
        "display = Display(visible=0, size=(1400,900),)\n",
        "display.start()"
      ],
      "execution_count": 0,
      "outputs": [
        {
          "output_type": "stream",
          "text": [
            "Reading package lists... Done\n",
            "Building dependency tree       \n",
            "Reading state information... Done\n",
            "x11-utils is already the newest version (7.7+3build1).\n",
            "The following package was automatically installed and is no longer required:\n",
            "  libnvidia-common-430\n",
            "Use 'apt autoremove' to remove it.\n",
            "0 upgraded, 0 newly installed, 0 to remove and 7 not upgraded.\n"
          ],
          "name": "stdout"
        },
        {
          "output_type": "execute_result",
          "data": {
            "text/plain": [
              "<Display cmd_param=['Xvfb', '-br', '-nolisten', 'tcp', '-screen', '0', '1400x900x24', ':1041'] cmd=['Xvfb', '-br', '-nolisten', 'tcp', '-screen', '0', '1400x900x24', ':1041'] oserror=None return_code=None stdout=\"None\" stderr=\"None\" timeout_happened=False>"
            ]
          },
          "metadata": {
            "tags": []
          },
          "execution_count": 1
        }
      ]
    },
    {
      "cell_type": "code",
      "metadata": {
        "id": "U_uitgnKdJ8k",
        "colab_type": "code",
        "colab": {}
      },
      "source": [
        "import numpy as np\n",
        "import torch\n",
        "import torch.nn as nn\n",
        "import torch.optim as optim\n",
        "\n",
        "HIDDEN = 32\n",
        "BATCH_SIZE = 32\n",
        "PERCENTILE = 50\n",
        "LIMIT = 250\n",
        "EPISODE = 100\n",
        "TOTAL_EPISODE = 1000\n",
        "class Net(nn.Module):\n",
        "  def __init__(self, obs_size, hidden, action_size):\n",
        "    super(Net, self).__init__()\n",
        "    self.net=nn.Sequential(\n",
        "        nn.Linear(obs_size, hidden),\n",
        "        nn.ReLU(),\n",
        "        nn.Linear(hidden, action_size)\n",
        "    )\n",
        "\n",
        "  def forward(self, x):\n",
        "    return self.net(x)"
      ],
      "execution_count": 0,
      "outputs": []
    },
    {
      "cell_type": "code",
      "metadata": {
        "id": "mS1SOTZceS7n",
        "colab_type": "code",
        "colab": {}
      },
      "source": [
        "import copy\n",
        "\n",
        "def get_batch(batch_size, env, net):\n",
        "  print('')\n",
        "  batch = []\n",
        "  reward = 0.0\n",
        "  obs = env.reset()\n",
        "  steps = []\n",
        "  sm = nn.Softmax(dim=1)\n",
        "  while True:\n",
        "    obs_v = torch.FloatTensor([obs])\n",
        "    obs_v = obs_v.to(device)\n",
        "    action_v = sm(net(obs_v)).cpu().data.numpy()[0]\n",
        "    action = np.random.choice(env.action_space.n, p=action_v)\n",
        "    next_obs, rew, done, _ = env.step(action)\n",
        "    reward += rew\n",
        "    steps.append((obs,action))\n",
        "    if done:\n",
        "      batch.append((reward, steps))\n",
        "      reward = 0.0\n",
        "      next_obs = env.reset()\n",
        "      steps = []\n",
        "      if len(batch) == batch_size:\n",
        "        yield batch\n",
        "        obs = env.reset()\n",
        "        batch=[]\n",
        "    obs = next_obs"
      ],
      "execution_count": 0,
      "outputs": []
    },
    {
      "cell_type": "code",
      "metadata": {
        "id": "1nSYB-BTlk5P",
        "colab_type": "code",
        "colab": {}
      },
      "source": [
        "def filter_batch(batch):\n",
        "  rews = list(map(lambda episode: episode[0],batch))\n",
        "  rews_threshold = np.percentile(rews, PERCENTILE)\n",
        "  rews_mean = np.mean(rews)\n",
        "\n",
        "  ret_action = []\n",
        "  ret_obs = []\n",
        "\n",
        "  for scene in batch:\n",
        "    if scene[0] < rews_threshold:\n",
        "      continue\n",
        "    ret_obs.extend(map(lambda step: step[0], scene[1]))\n",
        "    ret_action.extend(map(lambda step: step[1], scene[1]))\n",
        "\n",
        "  return torch.FloatTensor(ret_obs), torch.LongTensor(ret_action), rews_threshold, rews_mean"
      ],
      "execution_count": 0,
      "outputs": []
    },
    {
      "cell_type": "code",
      "metadata": {
        "id": "7rm1piHQ87HI",
        "colab_type": "code",
        "colab": {}
      },
      "source": [
        "def evalNet(env, net):\n",
        "  #Best 100 episode rewards\n",
        "  sm = nn.Softmax(dim=1)\n",
        "  total_reward = []\n",
        "  reward_sum = 0\n",
        "  for i in range(TOTAL_EPISODE):\n",
        "    obs = env.reset()\n",
        "    reward = 0\n",
        "    while True:\n",
        "      obs_v = torch.FloatTensor([obs]).to(device)\n",
        "      action = sm(net(obs_v))\n",
        "      _, predicted = torch.max(action.data, 1)\n",
        "      next_obs, rew, done, _ = env.step(predicted)\n",
        "      reward += rew\n",
        "      obs = next_obs\n",
        "      if done:\n",
        "        total_reward.append(reward)\n",
        "        break;\n",
        "  total_reward.sort(reverse=True)\n",
        "  for i in range(EPISODE):\n",
        "    reward_sum += total_reward[i]\n",
        "  return reward_sum/EPISODE"
      ],
      "execution_count": 0,
      "outputs": []
    },
    {
      "cell_type": "code",
      "metadata": {
        "id": "08L70DJvkWPy",
        "colab_type": "code",
        "colab": {}
      },
      "source": [
        "def show_video():\n",
        "  mp4list = glob.glob('video/*.mp4')\n",
        "  if len(mp4list) > 0:\n",
        "    for mp4 in mp4list:\n",
        "      video = io.open(mp4, 'r+b').read()\n",
        "      print(mp4)\n",
        "      encoded = base64.b64encode(video)\n",
        "      ipythondisplay.display(HTML(data='''<video alt=\"test\" autoplay loop controls style=\"height: 300px;\">\n",
        "                                  <source src=\"data:video/mp4;base64,{0}\" type=\"video/mp4\"/>\n",
        "                                  </video>'''.format(encoded.decode('ascii'))))\n",
        "  else:\n",
        "    print(\"Could not find video\")\n"
      ],
      "execution_count": 0,
      "outputs": []
    },
    {
      "cell_type": "code",
      "metadata": {
        "id": "Q5Bf4hpml22W",
        "colab_type": "code",
        "outputId": "e6d9706b-a369-4cc6-ea4a-2c47918936d4",
        "colab": {
          "base_uri": "https://localhost:8080/",
          "height": 971
        }
      },
      "source": [
        "env = gym.wrappers.Monitor(gym.make(\"Acrobot-v1\"), \"video\", force=True, video_callable=lambda c:c%100 ==0)\n",
        "net = Net(env.observation_space.shape[0], HIDDEN, env.action_space.n)\n",
        "CELoss = nn.CrossEntropyLoss()\n",
        "opt = optim.Adam(net.parameters(), 0.01)\n",
        "device = torch.device(\"cuda\")\n",
        "net = net.to(device)\n",
        "\n",
        "for i,batch in enumerate(get_batch(BATCH_SIZE, env, net)):\n",
        "  obs, action, threshold, mean = filter_batch(batch)\n",
        "  opt.zero_grad()\n",
        "  obs = obs.to(device)\n",
        "  action = action.to(device)\n",
        "  action_out = net(obs)\n",
        "  loss = CELoss(action_out, action)\n",
        "  loss.backward()\n",
        "  opt.step()\n",
        "  print(\"%d, loss = %.4f, th = %.2f, mean = %.2f \"%(i, loss, threshold, mean))\n",
        "  if(i == 50) :\n",
        "      print(\"%d EVAL : %.4f\"%(i, evalNet(env, net)))\n",
        "      #show_video()\n",
        "      break\n",
        "  \n",
        "    "
      ],
      "execution_count": 0,
      "outputs": [
        {
          "output_type": "stream",
          "text": [
            "\n",
            "0, loss = 1.0879, th = -500.00, mean = -494.00 \n",
            "1, loss = 1.0914, th = -500.00, mean = -497.50 \n",
            "2, loss = 1.0885, th = -500.00, mean = -488.97 \n",
            "3, loss = 1.0855, th = -500.00, mean = -492.03 \n",
            "4, loss = 1.0744, th = -500.00, mean = -470.41 \n",
            "5, loss = 1.0681, th = -500.00, mean = -459.75 \n",
            "6, loss = 1.0493, th = -499.00, mean = -459.59 \n",
            "7, loss = 1.0239, th = -400.00, mean = -396.75 \n",
            "8, loss = 1.0264, th = -311.00, mean = -340.00 \n",
            "9, loss = 0.9848, th = -259.50, mean = -270.75 \n",
            "10, loss = 0.9816, th = -216.50, mean = -229.16 \n",
            "11, loss = 0.9617, th = -207.00, mean = -205.97 \n",
            "12, loss = 0.9246, th = -159.00, mean = -172.12 \n",
            "13, loss = 0.8818, th = -153.00, mean = -161.62 \n",
            "14, loss = 0.8643, th = -153.00, mean = -157.38 \n",
            "15, loss = 0.7911, th = -129.00, mean = -131.03 \n",
            "16, loss = 0.7734, th = -124.50, mean = -132.31 \n",
            "17, loss = 0.7252, th = -126.00, mean = -144.56 \n",
            "18, loss = 0.7016, th = -112.50, mean = -123.16 \n",
            "19, loss = 0.6255, th = -113.50, mean = -118.31 \n",
            "20, loss = 0.6059, th = -103.00, mean = -117.72 \n",
            "21, loss = 0.6070, th = -102.00, mean = -108.22 \n",
            "22, loss = 0.5405, th = -103.00, mean = -120.25 \n",
            "23, loss = 0.5355, th = -95.00, mean = -103.53 \n",
            "24, loss = 0.5210, th = -94.00, mean = -103.69 \n",
            "25, loss = 0.4731, th = -90.00, mean = -95.34 \n",
            "26, loss = 0.4744, th = -92.00, mean = -97.69 \n",
            "27, loss = 0.3934, th = -86.50, mean = -87.59 \n",
            "28, loss = 0.4222, th = -93.50, mean = -102.09 \n",
            "29, loss = 0.4233, th = -87.50, mean = -91.78 \n",
            "30, loss = 0.3745, th = -85.00, mean = -93.97 \n",
            "31, loss = 0.3744, th = -82.50, mean = -86.03 \n",
            "32, loss = 0.3428, th = -87.00, mean = -90.34 \n",
            "33, loss = 0.3162, th = -90.00, mean = -90.22 \n",
            "34, loss = 0.3362, th = -83.50, mean = -89.50 \n",
            "35, loss = 0.3241, th = -88.00, mean = -89.12 \n",
            "36, loss = 0.3131, th = -82.50, mean = -89.38 \n",
            "37, loss = 0.2833, th = -78.00, mean = -84.34 \n",
            "38, loss = 0.2935, th = -86.00, mean = -91.44 \n",
            "39, loss = 0.2700, th = -83.00, mean = -80.69 \n",
            "40, loss = 0.3124, th = -84.50, mean = -85.22 \n",
            "41, loss = 0.2383, th = -80.00, mean = -83.81 \n",
            "42, loss = 0.2074, th = -84.00, mean = -90.72 \n",
            "43, loss = 0.2223, th = -79.50, mean = -85.47 \n",
            "44, loss = 0.2281, th = -83.00, mean = -87.69 \n",
            "45, loss = 0.2340, th = -76.00, mean = -81.38 \n",
            "46, loss = 0.2032, th = -86.00, mean = -86.00 \n",
            "47, loss = 0.2324, th = -79.00, mean = -81.34 \n",
            "48, loss = 0.2110, th = -80.00, mean = -92.06 \n",
            "49, loss = 0.1733, th = -88.50, mean = -85.38 \n",
            "50, loss = 0.1985, th = -79.50, mean = -81.03 \n",
            "50 EVAL : -66.3900\n"
          ],
          "name": "stdout"
        }
      ]
    },
    {
      "cell_type": "code",
      "metadata": {
        "id": "8ggM82_AHeCI",
        "colab_type": "code",
        "colab": {}
      },
      "source": [
        ""
      ],
      "execution_count": 0,
      "outputs": []
    }
  ]
}