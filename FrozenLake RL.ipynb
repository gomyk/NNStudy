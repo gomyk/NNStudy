{
 "cells": [
  {
   "cell_type": "code",
   "execution_count": 1,
   "metadata": {},
   "outputs": [],
   "source": [
    "import gym\n",
    "import numpy as np\n",
    "\n",
    "import torch\n",
    "import torch.nn as nn\n",
    "import torch.optim as optim\n",
    "\n",
    "import random\n",
    "\n",
    "HIDDEN = 128\n",
    "PERCENTILE= 30\n",
    "BATCH_SIZE = 100\n",
    "DISCOUNT = 0.95\n",
    "DECAY = 0.99"
   ]
  },
  {
   "cell_type": "code",
   "execution_count": 2,
   "metadata": {},
   "outputs": [],
   "source": [
    "class OneHotObsWrapper(gym.ObservationWrapper):\n",
    "    def __init__(self,env):\n",
    "        super(OneHotObsWrapper, self).__init__(env)\n",
    "        self.obs_size = env.observation_space.n\n",
    "        self.observation_space = gym.spaces.Box(low = 0.0, high = 1.0, shape=(self.obs_size,),dtype=np.float32)\n",
    "        \n",
    "    def observation(self, obs):\n",
    "        res = np.zeros((self.obs_size,))\n",
    "        res[obs] = 1.0\n",
    "        return res"
   ]
  },
  {
   "cell_type": "code",
   "execution_count": 3,
   "metadata": {},
   "outputs": [],
   "source": [
    "class Net(nn.Module):\n",
    "    def __init__(self, in_size, hidden, out_size):\n",
    "        super(Net, self).__init__()\n",
    "        self.net = nn.Sequential(\n",
    "            nn.Linear(in_size, hidden),\n",
    "            nn.ReLU(),\n",
    "            nn.Linear(hidden, out_size)\n",
    "        )\n",
    "    def forward(self, x):\n",
    "        return self.net(x)"
   ]
  },
  {
   "cell_type": "code",
   "execution_count": 4,
   "metadata": {},
   "outputs": [],
   "source": [
    "def get_batch(env, net, batch_size):\n",
    "    batch = []\n",
    "    steps = []\n",
    "    reward = 0\n",
    "    sm = nn.Softmax(dim = 1)\n",
    "    obs = env.reset()\n",
    "    while True:\n",
    "        obs_ = torch.FloatTensor([obs])\n",
    "        action_ = sm(net(obs_)).data.numpy()[0]\n",
    "        action = np.random.choice(len(action_), p=action_)\n",
    "        next_obs, rew, done, _ = env.step(action)\n",
    "        reward+=rew\n",
    "        steps.append((obs, action))\n",
    "        if done:\n",
    "            batch.append((rew*(DISCOUNT**len(steps)), steps))\n",
    "            steps=[]\n",
    "            reward=0\n",
    "            next_obs = env.reset()\n",
    "            if len(batch) == batch_size:\n",
    "                yield batch\n",
    "                batch = []\n",
    "        obs= next_obs"
   ]
  },
  {
   "cell_type": "code",
   "execution_count": 44,
   "metadata": {},
   "outputs": [],
   "source": [
    "def filter_batch(batch, saved):\n",
    "    mean = np.array(list(map(lambda ep: ep[0],batch)))\n",
    "    mean = mean[mean>0].shape[0]\n",
    "    \n",
    "    batch.extend(saved)\n",
    "    rews= list(map(lambda ep: ep[0],batch))\n",
    "    threshold = rews[np.argsort(rews)[-PERCENTILE]]\n",
    "    \n",
    "    acts = []\n",
    "    obss = []\n",
    "    top_batch = []\n",
    "    \n",
    "    for episode in batch:\n",
    "        if episode[0] == 0.0  or episode[0] < threshold:\n",
    "            continue\n",
    "        obss.extend(map(lambda step:step[0], episode[1]))\n",
    "        acts.extend(map(lambda step:step[1], episode[1]))\n",
    "        ep = (episode[0]*DECAY, episode[1])\n",
    "        top_batch.append(ep)\n",
    "    \n",
    "    return torch.FloatTensor(obss), torch.LongTensor(acts), top_batch, threshold, mean"
   ]
  },
  {
   "cell_type": "code",
   "execution_count": 55,
   "metadata": {
    "scrolled": true
   },
   "outputs": [
    {
     "name": "stdout",
     "output_type": "stream",
     "text": [
      "1 saved = 1, loss = 1.3884, threshold = 0.0000, mean = 1.0000\n",
      "2 saved = 2, loss = 1.3715, threshold = 0.0000, mean = 1.0000\n",
      "3 saved = 3, loss = 1.3427, threshold = 0.0000, mean = 1.0000\n",
      "4 saved = 4, loss = 1.3122, threshold = 0.0000, mean = 1.0000\n",
      "5 saved = 9, loss = 1.2818, threshold = 0.0000, mean = 5.0000\n",
      "6 saved = 15, loss = 1.2470, threshold = 0.0000, mean = 6.0000\n",
      "7 saved = 22, loss = 1.2071, threshold = 0.0000, mean = 7.0000\n",
      "8 saved = 30, loss = 1.1590, threshold = 0.4401, mean = 12.0000\n",
      "9 saved = 31, loss = 1.0171, threshold = 0.5987, mean = 22.0000\n",
      "10 saved = 33, loss = 0.8744, threshold = 0.6568, mean = 28.0000\n",
      "11 saved = 33, loss = 0.7705, threshold = 0.6634, mean = 31.0000\n",
      "12 saved = 35, loss = 0.6125, threshold = 0.6983, mean = 38.0000\n",
      "13 saved = 32, loss = 0.4907, threshold = 0.7205, mean = 38.0000\n",
      "14 saved = 36, loss = 0.4144, threshold = 0.7277, mean = 54.0000\n",
      "15 saved = 50, loss = 0.3552, threshold = 0.7277, mean = 54.0000\n",
      "16 saved = 35, loss = 0.2981, threshold = 0.7351, mean = 61.0000\n",
      "17 saved = 53, loss = 0.2622, threshold = 0.7351, mean = 80.0000\n",
      "18 saved = 61, loss = 0.2250, threshold = 0.7351, mean = 78.0000\n",
      "19 saved = 79, loss = 0.1803, threshold = 0.7351, mean = 87.0000\n",
      "20 saved = 80, loss = 0.1555, threshold = 0.7351, mean = 91.0000\n",
      "21 saved = 87, loss = 0.1330, threshold = 0.7351, mean = 94.0000\n",
      "22 saved = 92, loss = 0.1342, threshold = 0.7351, mean = 93.0000\n",
      "23 saved = 95, loss = 0.1020, threshold = 0.7351, mean = 97.0000\n",
      "24 saved = 93, loss = 0.0927, threshold = 0.7351, mean = 96.0000\n",
      "25 saved = 99, loss = 0.0806, threshold = 0.7351, mean = 100.0000\n",
      "Solved\n"
     ]
    }
   ],
   "source": [
    "if __name__ == \"__main__\":\n",
    "    random.seed(12345)\n",
    "    env = gym.envs.toy_text.frozen_lake.FrozenLakeEnv(is_slippery=False)\n",
    "    env = gym.wrappers.TimeLimit(env, max_episode_steps=100)\n",
    "    env = OneHotObsWrapper(env)\n",
    "#     env = OneHotObsWrapper(gym.make(\"FrozenLake-v0\"))\n",
    "    net = Net(env.observation_space.shape[0], HIDDEN, env.action_space.n)\n",
    "    CELoss = nn.CrossEntropyLoss()\n",
    "    optimizer = optim.Adam(net.parameters(), lr= 0.01)\n",
    "    \n",
    "    saved = []\n",
    "    for i, batch in enumerate(get_batch(env, net, BATCH_SIZE)):\n",
    "        obss, acts, saved, threshold, mean = filter_batch(batch, saved)\n",
    "        if not obss.shape[0] > 0:\n",
    "            continue\n",
    "        optimizer.zero_grad()\n",
    "        action_pred = net(obss)\n",
    "        loss = CELoss(action_pred, acts)\n",
    "        loss.backward()\n",
    "        optimizer.step()\n",
    "    \n",
    "        print(\"%d saved = %d, loss = %.4f, threshold = %.4f, mean = %.4f\"%(i, len(saved), loss, threshold, mean))\n",
    "        \n",
    "        if mean > 99:\n",
    "            print(\"Solved\")\n",
    "            break"
   ]
  },
  {
   "cell_type": "code",
   "execution_count": 56,
   "metadata": {},
   "outputs": [
    {
     "name": "stdout",
     "output_type": "stream",
     "text": [
      "  (Down)\n",
      "SFFF\n",
      "FHFH\n",
      "FFFH\n",
      "HFFG\n",
      "  (Down)\n",
      "SFFF\n",
      "FHFH\n",
      "FFFH\n",
      "HFFG\n",
      "  (Right)\n",
      "SFFF\n",
      "FHFH\n",
      "FFFH\n",
      "HFFG\n",
      "  (Down)\n",
      "SFFF\n",
      "FHFH\n",
      "FFFH\n",
      "HFFG\n",
      "  (Right)\n",
      "SFFF\n",
      "FHFH\n",
      "FFFH\n",
      "HFFG\n",
      "  (Right)\n",
      "SFFF\n",
      "FHFH\n",
      "FFFH\n",
      "HFFG\n"
     ]
    }
   ],
   "source": [
    "obs = env.reset()\n",
    "sm = nn.Softmax(dim = 1)\n",
    "while True:\n",
    "    obs_ = torch.FloatTensor([obs])\n",
    "    action_ = sm(net(obs_)).data.numpy()[0]\n",
    "    action = np.random.choice(len(action_), p=action_)\n",
    "    next_obs, rew, done, _ = env.step(action)\n",
    "    env.render()\n",
    "    if done:\n",
    "        break\n",
    "    obs = next_obs"
   ]
  }
 ],
 "metadata": {
  "kernelspec": {
   "display_name": "Python 3",
   "language": "python",
   "name": "python3"
  },
  "language_info": {
   "codemirror_mode": {
    "name": "ipython",
    "version": 3
   },
   "file_extension": ".py",
   "mimetype": "text/x-python",
   "name": "python",
   "nbconvert_exporter": "python",
   "pygments_lexer": "ipython3",
   "version": "3.6.5"
  }
 },
 "nbformat": 4,
 "nbformat_minor": 2
}
