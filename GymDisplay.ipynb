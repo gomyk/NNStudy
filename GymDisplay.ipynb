{
  "nbformat": 4,
  "nbformat_minor": 0,
  "metadata": {
    "colab": {
      "name": "GymDisplay.ipynb",
      "provenance": [],
      "collapsed_sections": [],
      "authorship_tag": "ABX9TyMsBm5do07Sc9f4eNwkoNzt",
      "include_colab_link": true
    },
    "kernelspec": {
      "name": "python3",
      "display_name": "Python 3"
    }
  },
  "cells": [
    {
      "cell_type": "markdown",
      "metadata": {
        "id": "view-in-github",
        "colab_type": "text"
      },
      "source": [
        "<a href=\"https://colab.research.google.com/github/henry-bokyum-kim/NNStudy/blob/master/GymDisplay.ipynb\" target=\"_parent\"><img src=\"https://colab.research.google.com/assets/colab-badge.svg\" alt=\"Open In Colab\"/></a>"
      ]
    },
    {
      "cell_type": "code",
      "metadata": {
        "id": "fOGHxbyy6_rq",
        "colab_type": "code",
        "colab": {
          "base_uri": "https://localhost:8080/",
          "height": 161
        },
        "outputId": "caf690a7-e92a-4463-bb8d-3047c37bf31d"
      },
      "source": [
        "!pip install gym pyvirtualdisplay > /dev/null 2>&1\n",
        "!apt-get install -y xvfb python-opengl ffmpeg > /dev/null 2>&1\n",
        "!apt-get install x11-utils"
      ],
      "execution_count": 7,
      "outputs": [
        {
          "output_type": "stream",
          "text": [
            "Reading package lists... Done\n",
            "Building dependency tree       \n",
            "Reading state information... Done\n",
            "x11-utils is already the newest version (7.7+3build1).\n",
            "The following package was automatically installed and is no longer required:\n",
            "  libnvidia-common-430\n",
            "Use 'apt autoremove' to remove it.\n",
            "0 upgraded, 0 newly installed, 0 to remove and 7 not upgraded.\n"
          ],
          "name": "stdout"
        }
      ]
    },
    {
      "cell_type": "code",
      "metadata": {
        "id": "XFLMtaRV7fdC",
        "colab_type": "code",
        "colab": {}
      },
      "source": [
        "import gym\n",
        "from gym import logger as gymlogger\n",
        "from gym.wrappers import Monitor\n",
        "gymlogger.set_level(40)\n",
        "\n",
        "import math\n",
        "import glob\n",
        "import io\n",
        "import base64\n",
        "from IPython.display import HTML\n",
        "\n",
        "from pyvirtualdisplay import Display\n",
        "from IPython import display as ipythondisplay\n",
        "\n",
        "display = Display(visible=0, size=(1400,900),)\n",
        "display.start()\n",
        "\n",
        "def show_video():\n",
        "  mp4list = glob.glob('video/*.mp4')\n",
        "  if len(mp4list) > 0:\n",
        "    mp4 = mp4list[0]\n",
        "    video = io.open(mp4, 'r+b').read()\n",
        "    encoded = base64.b64encode(video)\n",
        "    ipythondisplay.display(HTML(data='''<video alt=\"test\" autoplay loop controls style=\"height: 400px;\">\n",
        "                                <source src=\"data:video/mp4;base64,{0}\" type=\"video/mp4\"/>\n",
        "                                </video>'''.format(encoded.decode('ascii'))))\n",
        "  else:\n",
        "    print(\"Could not find video\")"
      ],
      "execution_count": 0,
      "outputs": []
    },
    {
      "cell_type": "code",
      "metadata": {
        "id": "4YKrsA1-74sb",
        "colab_type": "code",
        "colab": {
          "base_uri": "https://localhost:8080/",
          "height": 439
        },
        "outputId": "01461c65-ec20-4ce2-99ed-5c304b142d0b"
      },
      "source": [
        "env = Monitor(gym.make(\"CartPole-v0\"),\"./video\",force=True)\n",
        "env.reset()\n",
        "#env.render()\n",
        "\n",
        "reward = 0.0\n",
        "count =0\n",
        "\n",
        "while True:\n",
        "  action = count%2\n",
        "  obs, rew, done, _ = env.step(action)\n",
        "  reward += rew\n",
        "  count +=1\n",
        "\n",
        "  if done:\n",
        "    break\n",
        "env.close()\n",
        "\n",
        "print(\"total Rew : %.4f\"%reward)\n",
        "show_video()"
      ],
      "execution_count": 27,
      "outputs": [
        {
          "output_type": "stream",
          "text": [
            "total Rew : 94.0000\n"
          ],
          "name": "stdout"
        },
        {
          "output_type": "display_data",
          "data": {
            "text/html": [
              "<video alt=\"test\" autoplay loop controls style=\"height: 400px;\">\n",
              "                                <source src=\"data:video/mp4;base64,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\" type=\"video/mp4\"/>\n",
              "                                </video>"
            ],
            "text/plain": [
              "<IPython.core.display.HTML object>"
            ]
          },
          "metadata": {
            "tags": []
          }
        }
      ]
    },
    {
      "cell_type": "code",
      "metadata": {
        "id": "OLUyu9JD_LyS",
        "colab_type": "code",
        "colab": {
          "base_uri": "https://localhost:8080/",
          "height": 107
        },
        "outputId": "3a4f1858-9d2a-43d7-b8b4-0902ed8dcf54"
      },
      "source": [
        "!ls video"
      ],
      "execution_count": 22,
      "outputs": [
        {
          "output_type": "stream",
          "text": [
            "openaigym.episode_batch.2.124.stats.json\n",
            "openaigym.manifest.2.124.manifest.json\n",
            "openaigym.video.2.124.video000000.meta.json\n",
            "openaigym.video.3.124.video000000.meta.json\n",
            "openaigym.video.3.124.video000000.mp4\n"
          ],
          "name": "stdout"
        }
      ]
    }
  ]
}