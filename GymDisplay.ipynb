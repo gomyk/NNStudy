{
  "nbformat": 4,
  "nbformat_minor": 0,
  "metadata": {
    "colab": {
      "name": "GymDisplay.ipynb",
      "provenance": [],
      "collapsed_sections": [],
      "authorship_tag": "ABX9TyPwPHRuQ+0W60P8j9RicNfs",
      "include_colab_link": true
    },
    "kernelspec": {
      "name": "python3",
      "display_name": "Python 3"
    }
  },
  "cells": [
    {
      "cell_type": "markdown",
      "metadata": {
        "id": "view-in-github",
        "colab_type": "text"
      },
      "source": [
        "<a href=\"https://colab.research.google.com/github/henry-bokyum-kim/NNStudy/blob/master/GymDisplay.ipynb\" target=\"_parent\"><img src=\"https://colab.research.google.com/assets/colab-badge.svg\" alt=\"Open In Colab\"/></a>"
      ]
    },
    {
      "cell_type": "code",
      "metadata": {
        "id": "fOGHxbyy6_rq",
        "colab_type": "code",
        "outputId": "c0cd8e7a-afca-4b4c-858c-0933d77ade19",
        "colab": {
          "base_uri": "https://localhost:8080/",
          "height": 539
        }
      },
      "source": [
        "!pip install gym pyvirtualdisplay > /dev/null 2>&1\n",
        "!apt-get install -y xvfb python-opengl ffmpeg > /dev/null 2>&1\n",
        "!apt-get install x11-utils"
      ],
      "execution_count": 2,
      "outputs": [
        {
          "output_type": "stream",
          "text": [
            "Reading package lists... Done\n",
            "Building dependency tree       \n",
            "Reading state information... Done\n",
            "The following package was automatically installed and is no longer required:\n",
            "  libnvidia-common-430\n",
            "Use 'apt autoremove' to remove it.\n",
            "The following additional packages will be installed:\n",
            "  libxxf86dga1\n",
            "Suggested packages:\n",
            "  mesa-utils\n",
            "The following NEW packages will be installed:\n",
            "  libxxf86dga1 x11-utils\n",
            "0 upgraded, 2 newly installed, 0 to remove and 7 not upgraded.\n",
            "Need to get 209 kB of archives.\n",
            "After this operation, 711 kB of additional disk space will be used.\n",
            "Get:1 http://archive.ubuntu.com/ubuntu bionic/main amd64 libxxf86dga1 amd64 2:1.1.4-1 [13.7 kB]\n",
            "Get:2 http://archive.ubuntu.com/ubuntu bionic/main amd64 x11-utils amd64 7.7+3build1 [196 kB]\n",
            "Fetched 209 kB in 2s (125 kB/s)\n",
            "Selecting previously unselected package libxxf86dga1:amd64.\n",
            "(Reading database ... 137366 files and directories currently installed.)\n",
            "Preparing to unpack .../libxxf86dga1_2%3a1.1.4-1_amd64.deb ...\n",
            "Unpacking libxxf86dga1:amd64 (2:1.1.4-1) ...\n",
            "Selecting previously unselected package x11-utils.\n",
            "Preparing to unpack .../x11-utils_7.7+3build1_amd64.deb ...\n",
            "Unpacking x11-utils (7.7+3build1) ...\n",
            "Setting up libxxf86dga1:amd64 (2:1.1.4-1) ...\n",
            "Setting up x11-utils (7.7+3build1) ...\n",
            "Processing triggers for man-db (2.8.3-2ubuntu0.1) ...\n",
            "Processing triggers for libc-bin (2.27-3ubuntu1) ...\n"
          ],
          "name": "stdout"
        }
      ]
    },
    {
      "cell_type": "code",
      "metadata": {
        "id": "XFLMtaRV7fdC",
        "colab_type": "code",
        "colab": {}
      },
      "source": [
        "import gym\n",
        "from gym import logger as gymlogger\n",
        "from gym.wrappers import Monitor\n",
        "gymlogger.set_level(40)\n",
        "\n",
        "import math\n",
        "import glob\n",
        "import io\n",
        "import base64\n",
        "from IPython.display import HTML\n",
        "\n",
        "from pyvirtualdisplay import Display\n",
        "from IPython import display as ipythondisplay\n",
        "\n",
        "display = Display(visible=0, size=(1400,900),)\n",
        "display.start()\n",
        "\n",
        "def show_video():\n",
        "  mp4list = glob.glob('video/*.mp4')\n",
        "  if len(mp4list) > 0:\n",
        "    mp4 = mp4list[0]\n",
        "    video = io.open(mp4, 'r+b').read()\n",
        "    encoded = base64.b64encode(video)\n",
        "    ipythondisplay.display(HTML(data='''<video alt=\"test\" autoplay loop controls style=\"height: 300px;\">\n",
        "                                <source src=\"data:video/mp4;base64,{0}\" type=\"video/mp4\"/>\n",
        "                                </video>'''.format(encoded.decode('ascii'))))\n",
        "  else:\n",
        "    print(\"Could not find video\")"
      ],
      "execution_count": 0,
      "outputs": []
    },
    {
      "cell_type": "code",
      "metadata": {
        "id": "4YKrsA1-74sb",
        "colab_type": "code",
        "outputId": "da075478-fecd-4568-81e4-1a17cabe239b",
        "colab": {
          "base_uri": "https://localhost:8080/",
          "height": 338
        }
      },
      "source": [
        "# default random move.\n",
        "\n",
        "env = Monitor(gym.make(\"CartPole-v0\"),\"./video\",force=True)\n",
        "env.reset()\n",
        "#env.render()\n",
        "\n",
        "reward = 0.0\n",
        "count =0\n",
        "\n",
        "while True:\n",
        "  action = count%2\n",
        "  obs, rew, done, _ = env.step(action)\n",
        "  reward += rew\n",
        "  count +=1\n",
        "\n",
        "  if done:\n",
        "    break\n",
        "env.close()\n",
        "\n",
        "print(\"total Rew : %.4f\"%reward)\n",
        "show_video()"
      ],
      "execution_count": 8,
      "outputs": [
        {
          "output_type": "stream",
          "text": [
            "total Rew : 66.0000\n"
          ],
          "name": "stdout"
        },
        {
          "output_type": "display_data",
          "data": {
            "text/html": [
              "<video alt=\"test\" autoplay loop controls style=\"height: 300px;\">\n",
              "                                <source src=\"data:video/mp4;base64,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\" type=\"video/mp4\"/>\n",
              "                                </video>"
            ],
            "text/plain": [
              "<IPython.core.display.HTML object>"
            ]
          },
          "metadata": {
            "tags": []
          }
        }
      ]
    },
    {
      "cell_type": "code",
      "metadata": {
        "id": "OLUyu9JD_LyS",
        "colab_type": "code",
        "outputId": "7ea5ebf1-8c29-450b-aa73-95de513ba300",
        "colab": {
          "base_uri": "https://localhost:8080/",
          "height": 1000
        }
      },
      "source": [
        "#basic NN\n",
        "import gym\n",
        "from collections import namedtuple\n",
        "import numpy as np\n",
        "\n",
        "import torch\n",
        "import torch.nn as nn\n",
        "import torch.optim as optim\n",
        "\n",
        "HIDDEN_SIZE=128\n",
        "BATCH_SIZE=16\n",
        "PRUNE=70\n",
        "\n",
        "class Net(nn.Module):\n",
        "  def __init__(self, obs_size, hidden_size, n_actions):\n",
        "    super(Net, self).__init__()\n",
        "    self.net = nn.Sequential(\n",
        "        nn.Linear(obs_size, hidden_size),\n",
        "        nn.ReLU(),\n",
        "        nn.Linear(hidden_size,n_actions)\n",
        "    )\n",
        "  def forward(self, x):\n",
        "    return self.net(x)\n",
        "\n",
        "episode = namedtuple('Episode', field_names=['reward','steps'])\n",
        "episodeStep = namedtuple('EpisodeStep', field_names=['observation', 'action'])\n",
        "\n",
        "def iterate_batches(env, net, batch_size):\n",
        "  batch=[]\n",
        "  episode_reward = 0.0\n",
        "  episode_steps = []\n",
        "  obs = env.reset()\n",
        "  sm = nn.Softmax(dim=1)\n",
        "  while True:\n",
        "    obs_v = torch.FloatTensor([obs])\n",
        "    act_probs_v = sm(net(obs_v))\n",
        "    act_probs = act_probs_v.data.numpy()[0]\n",
        "    action = np.random.choice(len(act_probs), p=act_probs)\n",
        "\n",
        "    next_obs, reward, done, _ = env.step(action)\n",
        "    episode_reward += reward\n",
        "    episode_steps.append(episodeStep(observation = obs, action=action))\n",
        "    if done:\n",
        "      batch.append(episode(reward=episode_reward, steps=episode_steps))\n",
        "      episode_reward = 0.0\n",
        "      episode_steps = []\n",
        "      next_obs = env.reset()\n",
        "      if len(batch) == batch_size:\n",
        "        yield batch\n",
        "        batch = []\n",
        "    obs=next_obs\n",
        "\n",
        "def filter_batch(batch, percentile):\n",
        "  rewards = list(map(lambda s:s.reward, batch))\n",
        "  reward_bound = np.percentile(rewards, percentile)\n",
        "  reward_mean = float(np.mean(rewards))\n",
        "\n",
        "  train_obs = []\n",
        "  train_act = []\n",
        "\n",
        "  for example in batch:\n",
        "    if example.reward < reward_bound:\n",
        "      continue\n",
        "    train_obs.extend(map(lambda step: step.observation, example.steps))\n",
        "    train_act.extend(map(lambda step: step.action, example.steps))\n",
        "\n",
        "  train_obs_v = torch.FloatTensor(train_obs)\n",
        "  train_act_v = torch.LongTensor(train_act)\n",
        "  return train_obs_v, train_act_v, reward_bound, reward_mean\n",
        "\n",
        "if __name__ == \"__main__\":\n",
        "  env = gym.wrappers.Monitor(gym.make(\"CartPole-v0\"), \"./video\", force=True)\n",
        "  obs_size = env.observation_space.shape[0]\n",
        "  n_actions = env.action_space.n\n",
        "\n",
        "  net = Net(obs_size, HIDDEN_SIZE, n_actions)\n",
        "  objective = nn.CrossEntropyLoss()\n",
        "  optimizer = optim.Adam(params=net.parameters(), lr=0.01)\n",
        "\n",
        "  for iter_no, batch in enumerate(iterate_batches(env, net, BATCH_SIZE)):\n",
        "      obs_v, acts_v, reward_b, reward_m = filter_batch(batch, PRUNE)\n",
        "      optimizer.zero_grad()\n",
        "      action_scores_v = net(obs_v)\n",
        "      if iter_no == 0:\n",
        "        print(action_scores_v.shape, acts_v.shape)\n",
        "      loss_v = objective(action_scores_v, acts_v)\n",
        "      loss_v.backward()\n",
        "      optimizer.step()\n",
        "      #print(\"%d: loss=%.3f, reward_mean=%.2f, reward_bound=%.2f\" % (iter_no, loss_v.item(), reward_m, reward_b))\n",
        "      if iter_no%20 == 0:\n",
        "        show_video()\n",
        "      if reward_m > 199:\n",
        "          print(\"Solved!\")\n",
        "          show_video()\n",
        "          break"
      ],
      "execution_count": 12,
      "outputs": [
        {
          "output_type": "stream",
          "text": [
            "torch.Size([140, 2]) torch.Size([140])\n"
          ],
          "name": "stdout"
        },
        {
          "output_type": "display_data",
          "data": {
            "text/html": [
              "<video alt=\"test\" autoplay loop controls style=\"height: 300px;\">\n",
              "                                <source src=\"data:video/mp4;base64,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\" type=\"video/mp4\"/>\n",
              "                                </video>"
            ],
            "text/plain": [
              "<IPython.core.display.HTML object>"
            ]
          },
          "metadata": {
            "tags": []
          }
        },
        {
          "output_type": "display_data",
          "data": {
            "text/html": [
              "<video alt=\"test\" autoplay loop controls style=\"height: 300px;\">\n",
              "                                <source src=\"data:video/mp4;base64,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\" type=\"video/mp4\"/>\n",
              "                                </video>"
            ],
            "text/plain": [
              "<IPython.core.display.HTML object>"
            ]
          },
          "metadata": {
            "tags": []
          }
        },
        {
          "output_type": "display_data",
          "data": {
            "text/html": [
              "<video alt=\"test\" autoplay loop controls style=\"height: 300px;\">\n",
              "                                <source src=\"data:video/mp4;base64,AAAAIGZ0eXBpc29tAAACAGlzb21pc28yYXZjMW1wNDEAAAAIZnJlZQAAHe1tZGF0AAACrgYF//+q3EXpvebZSLeWLNgg2SPu73gyNjQgLSBjb3JlIDE1MiByMjg1NCBlOWE1OTAzIC0gSC4yNjQvTVBFRy00IEFWQyBjb2RlYyAtIENvcHlsZWZ0IDIwMDMtMjAxNyAtIGh0dHA6Ly93d3cudmlkZW9sYW4ub3JnL3gyNjQuaHRtbCAtIG9wdGlvbnM6IGNhYmFjPTEgcmVmPTMgZGVibG9jaz0xOjA6MCBhbmFseXNlPTB4MzoweDExMyBtZT1oZXggc3VibWU9NyBwc3k9MSBwc3lfcmQ9MS4wMDowLjAwIG1peGVkX3JlZj0xIG1lX3JhbmdlPTE2IGNocm9tYV9tZT0xIHRyZWxsaXM9MSA4eDhkY3Q9MSBjcW09MCBkZWFkem9uZT0yMSwxMSBmYXN0X3Bza2lwPTEgY2hyb21hX3FwX29mZnNldD0tMiB0aHJlYWRzPTMgbG9va2FoZWFkX3RocmVhZHM9MSBzbGljZWRfdGhyZWFkcz0wIG5yPTAgZGVjaW1hdGU9MSBpbnRlcmxhY2VkPTAgYmx1cmF5X2NvbXBhdD0wIGNvbnN0cmFpbmVkX2ludHJhPTAgYmZyYW1lcz0zIGJfcHlyYW1pZD0yIGJfYWRhcHQ9MSBiX2JpYXM9MCBkaXJlY3Q9MSB3ZWlnaHRiPTEgb3Blbl9nb3A9MCB3ZWlnaHRwPTIga2V5aW50PTI1MCBrZXlpbnRfbWluPTI1IHNjZW5lY3V0PTQwIGludHJhX3JlZnJlc2g9MCByY19sb29rYWhlYWQ9NDAgcmM9Y3JmIG1idHJlZT0xIGNyZj0yMy4wIHFjb21wPTAuNjAgcXBtaW49MCBxcG1heD02OSBxcHN0ZXA9NCBpcF9yYXRpbz0xLjQwIGFxPTE6MS4wMACAAAACGmWIhAAv//72rvzLK0cLlS4dWXuzUfLoSXL9iDB9aAAAAwAAAwAAJuKiZ0WFMeJsgAAALmAIWElDyDzETFWKgSxDPavglEaAwIJAUOfThxdHUWdVW1aJcyGiT2uzDqqbYuvUpP20b4cd3fyphGN3BBAi75dAopiUcH6zVUE+MuA5zNwY6K6WpYrFqreLozLsDGsNqfkc6iFqi2sFDmrYMeYoa16svnt/QrorogFhXoaJPzH6KlqDo94A2EUFCOUAyyzof577sN04r27lPuS86B3Z0a9E5tNCyzkl9Aq07wIbT85fVpawZ64pBA7C/WkaCEPQRkP+XolQQExKcjlHQZZUIYDMhAvnnylxIPFrfQJkKrFGeHDAbxZ9Lx3NZyq7unpUmZbeG0Mt9z2D05O6sGLs5gU0IBoGEMrVMHNlzs7gbJs0k7jNjME6P0PPRKzeFmCq/VuFsSnF3pvxpwykr2jKvxblWa09v+h/4AUIAITe+S7/yb9yyIiZrvJprldeLO8b0cVGlOMAPL/ir2oZRVwbnzhFj2DdlS9bMdsVfk5/W9rRBIriry9SbGpG5xc31hMNddRu1b9Y9BFfnpw7Xa3oTKPbbLIf6gU5CbZ7GvNOI5VXwiEqCZvwHFCOxmdXa3cTjAAWaVqH3Ele3TUOVkFjoIsQlzgGk0htTb1n/YymNP2RdwOzQ+Pf1gHao5OMFbgAAAMAAAMAAT0AAADKQZokbEL//oywAABGCvMfMAOhnvQj/EuFwFVgXDJ6lIot2Anh+EoIIIqieYQowuUusiwnhyXs5DWdsrSe0yNprz+1/A5pKE6b+ag8JPMgHMdYBvf5A7fygCn+0T/kyi/VVjB9IEbwGMg+l9n9bPgiwWQtJWAqEXQudHXrt5yHDPXM822LBz53/gzSk0f7ibo3b3A2yr5Ai8m6eG8QIan6KC8rsbJ33uUqBARwpjk/jM1LMOlIuCXgAAGyAXV7b1MJqecZiqdcIQGHswAAAEtBnkJ4hH8AABa+PUqUU0eMAHUwHMn2nZ8XqDjB6EfiOZPKSUqlolSozTlNRhnJOWAwPrgP6IeUYztFhqd0VgAAAwAUcht0P5+qAWcAAABBAZ5hdEf/AAAirEJW51pGNkmy4lHKAZQv9MQkJoAL4aAB98PQ3/WshkzYi4YwF/WtiPAAAAMAAAMDG5XEaQywH+AAAAA+AZ5jakf/AAAjscwNQkC4U2nx054RS1iE1UPq0F120ZBiyT9Nr1UZn2jsuk60TnsoAAADAARkcREEvB4QG1EAAABwQZpmSahBaJlMFPC//oywAABGEQSjOAOVydF5Fy6pnqzGJ/0Uk4crPRX6LcyMzphqkcY/ImsBgZA//9nFTycMJTbHYxa/op9y6l78NXXunILWhbBF+AhzlXSq1UGYPHxYPOegyxKyUX/xsTHzIKOBYQAAAD0BnoVqR/8AACO/GnQcaO3MJht9eCC7lmVLdJarPM/so8aswttNqQyz10kwoACdJfdzql+D+m5BHWpxdBWVAAAAWUGah0nhClJlMCGf/p4QAABFQUaAA6RvMcE5rxrDb8cEvxrFcJn0Thq9dm1gRFm6/8p4h5REBXezeXRPL+5undK+NJ81kxbUi5E4wUNRsOtdE8FmbonZTcTLAAAAYEGaq0nhDomUwIZ//p4QAABFUUheCm4nJWyKwX3kEf8LqQdAYbduFnYbTt3IyP1My80IniZEDmaNe16egjz7afRm4gZhsw2d/IRfcPJxFQeoX3v/AoAay40leTGGxC81RAAAAE9BnslFETwj/wAAFixQsJS+SaBAE597etv89Kl2FxSUyDU36zCx2H+C79gvAcKyF8eooI0XLNGp/4l+vY4Uy4iP3xqPA65pxUwzinNp5Zl4AAAAQAGe6HRH/wAADX4A0mtg7VsFCfWN8YKTTpalP0bPWmzYgnv6odz+PrW0mdkyAAJSpV9UpermDK4IhoI1NDgWHXkAAAAuAZ7qakf/AAAjscwNUIwuFNp8dOex7+uXhlWs6DjPUz0qYs8Y9wHY61IuxPCH+AAAAH5Bmu9JqEFomUwIZ//+nhAAAEVFKLQAgnZR/P+LYF6fPCK48QpGDZI6FNfjYosF9qTuMvK2DxWCCbGvbsusl4+MO+nOh/p3eHLA/XicUMTdxedvfCKEyIjQA2q3LYg+/lV1jRu3uVtlyvPWWzy/Ff+ybETgejpURy2aqTAJb4AAAABRQZ8NRREsI/8AABazK7UGSCLPF5y259I7u8Aet55pkoK0R3vKcJ3QYwTnnBwI/sgcTXq9oScYy5mhWgtezmR8wwwiC6CLY29BfOT6+q4SQQoJAAAAMAGfLHRH/wAAI6w4KOFbjlfsSZzSjlgNgswkG2Z07BPAXAzg0p4byek4SpJbqkhQQQAAAEUBny5qR/8AACOxzAHRzXzQdgHkJ8XdcbBooWG+vlCJm4VGa525GOZzEnjABNLmnxU3wWCK7JqYYU4ep1msbjOy6Dp6kXEAAABgQZszSahBbJlMCGf//p4QAABFum8626UrSr8yQsD7+zvFqt7SgOAIfmR+fvk0c6rfZGUbAATed6gWfL6w1/IKxvQH9ovccs5D9ibega2OUOSXwbfulPKLeD643sc1BM04AAAAS0GfUUUVLCP/AAAWsyu1BeGZlQxmlGoEqB9ll9TqsMXPUYwmRCXtTVo6aAmvcGr7iMRC9crwJ2Qnlu0pybrFP28Ehg7kNH8x5/oN6AAAAC8Bn3B0R/8AACPCXd/0fGroT5/s71YCXpbgTQEt+SbmJxgGDQtFir8JLqnSugAyoQAAADABn3JqR/8AACO/BCZ2dyNlgfbC3mXg/dzTCmUqAZmnQxJjGPdfjCqivkv8tpwzebgAAACEQZt3SahBbJlMCGf//p4QAABDRS21gAjI+4PaqdtNaPMuapuNJ1HTG7ezpzacbJ4rBDntZrzJmLPophAAa/Z3BXRAfScdUWDp2gsAYIzCl3ZFObRTQRvvBldT8rIhOdf1cokqg2B3B9QJDRkJxGSCqbdGhdVLXpGqPt9fUNz0mCn6CuN0AAAAUkGflUUVLCP/AAAWK5SejkI1StXIQABbPNcSwjbP4rtna/0t3RHRlIg21UN+DlvjVpMdHI1BDIzKayYSxv/f7nTxCXL0biEqvu1xa0BiOjwW8XcAAAA4AZ+0dEf/AAAiw0bEIKAaN9wSogTUaD7hpBKPeneh/YW/oTJfdBsZ1zWofBledIMp+EiBvqfEGVAAAAA4AZ+2akf/AAAivxoXbsB/65xYAdIBCkV7oSRo6mz+EN1IVctDRWUQ4Yp01JXnXK7N2P/o/+QzIi8AAAB+QZu7SahBbJlMCGf//p4QAABDVJjr7ABGR9xedPiSOnGrnsobvnypC2nae2bi2DIadpXnlBXqKFFBO0RCLW2iFVhmuiK+QpTo1901Xo1qwJ9A3b+ULKNnVf4UaMuPJpHja+XZfno73qXgAzKNA3RpnLPLR9xF3f+/3Bn7us+BAAAAR0Gf2UUVLCP/AAAWMEaRcoqPsHezihIPHymFDvBUQAP1YfHlQOVcCOTn8UHdCaIAceyLW6PA0d0WCLDNqW/ZykJO0CuRh05UAAAAMQGf+HRH/wAAIqnQHHP4JSTuLQiPqHF76TlwzEn0lo9VxxFORRTY4j1WhqaSnB5qVsEAAABBAZ/6akf/AAAisjzI/YNojRrTottKXMz+9w2EasZ3OqXh3b9RVPtwwANhg4BUoE2/74o8kv2ulr3UsGz1oyuxVMAAAABtQZv/SahBbJlMCGf//p4QAABDQ5cj6rwprsTB2PLmI+K2qGwtGF87VtYX03F51GJT//zOYWY2TY4N9R1R6jAiD0p/FVy0k9QslX4D7AhaI/qhRycL69FivyAFAWOabB4DUPM931FF0v7gNEgOnwAAADtBnh1FFSwj/wAAFitovZ05VDsTpl4mlCJBHWOV/pygwKem/5K5YP4Y9JUNatd8W98/tE20uATgeUutgQAAADoBnjx0R/8AACLAuY7Dlov8MafXzzXe58tV+Qvi02YGUz1yZUo8OulgAAhToNELO9lZNjBjPfYFzci4AAAAQAGePmpH/wAAIjyahqQBMkus9+5+XuxZsjsRxPhQ4MLwdeRS9dBH/Sz5N9qARDB/PVfFqr2UfQoHoGvreBE+HbgAAACCQZojSahBbJlMCGf//p4QAABDVJzqmQARGBBAB7ve7sFxvrIbsqRHcRxr1jcRVu0OikiC0Qv9Bounspbr7vuBJhyJkBO3FM57V4rj9YSjepdFn9GDyloNWYkfoR9PxcMZLvHfLuvpW1yOH0n+VdyZizdjkjp1a5cx8qQd192/fs7SYQAAAEVBnkFFFSwj/wAAFgWM0oaZF+HlsbuYPeeWFWXqItJa+gVPv5K+2ApPFlI2MIALUQ2iGGYfq3+Vk+qoPHk/Qw20bEtBvnwAAAAxAZ5gdEf/AAAimWDGsA7WOX3WtMsuvTfNOSbYKHkK3e2CFrGCM4R+IC1fkusLOfNuSQAAADIBnmJqR/8AACLHCzGMe5WGkI1H90iW6oHd8ilansMje5rTwK2ZavF5Wozj+9Px5VqNoAAAAGZBmmdJqEFsmUwIZ//+nhAAAENQ6T+gALCh6nXFEJWICpaF+mSyuL3x/lS3X3pwMaSmlgBn8gX64DIXDz0xR3XvD9BgD8U+Tvcm5f4x/rfMh3dYyZzobxvbCq+2XXTb9VDICTt/qdEAAABMQZ6FRRUsI/8AABYrX1c61oIk8nI5CDtUZPHLIZ9gWx2QDUCiRxFiAGxIIuh6LvsDpRKuTolG5uA6hGIlvWsv2u0E0ts+5vVp/3ZTvQAAADQBnqR0R/8AACLAuN+9Mo4QYO7QnVqtnhWSashsZgwCbLwzLt/KbHJoYsCQsVZY/6SC0yGxAAAALgGepmpH/wAAIr2WAooHHNsxkMaipKRgYaA0JP8MzNE2JMql6k1OdKsxqRmdVWEAAACFQZqrSahBbJlMCGf//p4QAABDum8/uDbFBgAtdbCSow+so9qnq4AyVtlthKyDwgaUSUXVYF7gTXy1OOvp8TpRgryrfmUUZFf6vTns+fV/X7vezfkpvsK5mtXL0vR9Pb7a3Ii+PHNcTMxooj1GTLjIuERpt/2RMxtzW/J8PCymbNqsaRqwaAAAAFFBnslFFSwj/wAAFiVDB4y7a+LBWVtTWXgZHYrzvtA8ZvD8nEyKB+iFAfsR9JCrCF4jACaupLBu5U/igNTnggLwqSPrhiVgr6FIdGlr9eY/LUgAAAA+AZ7odEf/AAAiqc7Flldq4iKAH7UYtWaf/GYnPrANsEeO+FZsPnS/hhjlwXiG10AJJ+X/rsfXom/Y0kGQYn0AAAA5AZ7qakf/AAAhrUcpGgzMLSXQAkuh/tKmg+zkuyVdiah0Il8Hr7bqpTdNh2U3dmn0X2/czDzHcVvQAAAAY0Ga70moQWyZTAhn//6eEAAAQWQLw+qEXV1F0x3HqdfMZ0lAoYW+5flG9v2ktaJ17SsXG1pJsTAKZVQ5oi9TmYjdDgECU63ewAmWUUpHOe9Cffdhv2JuxkV+xIrFJaRH0s0loAAAAD9Bnw1FFSwj/wAAFXxADAZ/qjW92SwRp8CFhwSvNT9RVOgYDM7srdFkPvocTMHnAmiZDRWhDwzRkHj0RiZcPi0AAAAxAZ8sdEf/AAAhqdAcKLVIS+PMRYnsHPsprrFVeMLl7BBTArXmWYXDcDTVrRLa8R7JsQAAADIBny5qR/8AACHG26WeltZt3HioW8a+fVKURgIlkuwzlqifiuLWgwtinmC7q4qbLzo/ewAAAHBBmzNJqEFsmUwIZ//+nhAAAEFQ9S/HyaAOVEbBfOhy8kva+97lbxlDiseOJa0VN4l6J4JKKUgTbDu3/gBd/qAW0VdREheUDl2bn7MixAb74NqlYriGYM1sF2p06duBpDKr1SM6rhjpVMoMLlxc7jsqAAAAWEGfUUUVLCP/AAAViAbINkIiIe59CuyZQOk/CRuo+4H+bzgT0l09WGiPCqt703H1UAD+dSWDdyp+5+29khm1rNpWtkWv5XlOEq0cgPmTxlGeeGzXCtKL/FgAAAA+AZ9wdEf/AAAhmLG9KhN+GKJYeQGdmh2n7Q3jsUrdu05QNoMD8/5hNvCaW8ll7LY45YKJjrvj5yirbOx7G4MAAAA1AZ9yakf/AAAhvZYCifloJMsR8bSMhjxfasaieqG1gtogrna214U1ec9R/1xUi7ar5u1m5UAAAABcQZt3SahBbJlMCF///oywAABCem8/bKO4QW3sezveyAEvfsThN4u3SplCOrE8EFH4KALbyKES/2CdvIPYjJSVODlrJBzWNM9a0xNpCXn6jlgy5Fyy/xQ5ORHyF4AAAABEQZ+VRRUsI/8AABWVJOKsVfZSIh35fqLEa38zSR+PXbv3+3RH+U1YfhE3DDJzUYMdGACdj8LyXBEAzTEjXaUaKK+0p48AAABFAZ+0dEf/AAAhqUA+9QqPNIvIggWU1ynPn6fs9+Sv2yZB8Fp/9qqlWEXQyBxDN8ktN5j8SACduyAkC5H3eX215bqw1vnHAAAANwGftmpH/wAAIK1HKeA41+52suDIxGeOIfv2C7Lp4HB8fRWRaGFzxGUQi7dIfTmbl2YKSmPR8cEAAABzQZu7SahBbJlMCF///oywAABAEKkhgwAsBoe+tMknPwn5e0D9EoPguG103rTqlnw2SOPbRHqwOCm4kkznHk/Y2oxRr3T6+XHTWTHjcw7Dku5NvIMbt7Azil2LR1DHjEJwsBsDGdkPM9woJYri2bWb+2SksQAAAFFBn9lFFSwj/wAAFRA7Qq/ux/uJJEqJJ/bzQvMypI5xnydaPz1j5atUG+IGdtuCT3iLzZtrTYATVvyxuEmKfKIUiXzQUkSeRCv9r93wIpKQgqkAAAA5AZ/4dEf/AAAgqUC0GU4jNVE9U7Yh32S2qdHDe8hxP5zZutjKxhfrJjGIvNwxeGMAAJJJ91Ht4RFTAAAASwGf+mpH/wAAIL1DA7pdABzUw4OJXuuIUxP8jvMC6EmpM5YChFfllgXXUXJQSVpQAeX2Ta6UnZTWhNAAiGlm75nfxXxygNKEY2s7jgAAAHxBm/1JqEFsmUwUTC///oywAABAEKJrEGsIQheAA8lIGuiG1Io1sHG2Itdn9HUrmqE2/5brReaivNWvH4lucoWA5QiuejDSDe7COyE0JVqdZWjJOHqRMQ7d3orD/QAdFTzB06R9Xum0UJKnSN7PsZ2so4hxQrYNHkq1DBbhAAAAOgGeHGpH/wAAIL0vm6xjvc2dVMrWO/oTc2H/+wXI5lOvjrkANkCBq+H5wrzBmZ+uf6wwBGMFmoneE7MAAABsQZoBSeEKUmUwIX/+jLAAAEB6bz3UJ8MAJZ7KRskID+NZoKbe0XC+NDiRbdMacIlyNYfey+o0V0QwxAZnIduHYE1KYtqsGOF8+vQrUp2JDOX+yfjks7cNDd5wOWJYFdzTvitr+tyuoeefHYTPAAAAQUGeP0U0TCP/AAAVBUMTIGI2xZYIFF8h++/gEtFyMMwzPOWVwflgwq8sI0maAxU47i1+MTETLgDFGIIK0u90AjKsAAAAMgGeXnRH/wAAIKlAf1lYQiTE6Vuy16dzg5HR+n55EjYwnxJ8ImFXG3GCWy15Gfr82D6ZAAAAPwGeQGpH/wAAH6n+bgssLJACqvICMICs5HpiGzhDiVC6mQ9Vwvn1+uJYK0JwAPXtdT3W/lvdNMhNqAFtps30wAAAAHVBmkVJqEFomUwIX//+jLAAAD5rFpU4yX0ACWrVbEwfPzoiGQVnXBNNP7dyA6WHwYmyH7MHxQz/FvTqz0K3hPPF2a3en7uviJITUUribJIe6pqoiaXO2zq8RKCQ0Czy5lPT9dBnhzhq+HeOudcf6LqJ4dD9ScMAAABIQZ5jRREsI/8AABRyRDE0Rt81J489iawTRd4k95kb6S3qQa5i73PSI1oK6bEv/O0O+AAbrSwRzi8aI6DZjO6hTJf+gomUc+V2AAAAQAGegnRH/wAAH7ZzFxT3xikO8QABbGH/bZGqfYcDSv43Zz+4ncjmdlQ100DN7usxp4TJENNYJbJ6h/hA56D42rsAAAA/AZ6Eakf/AAAfuAYXoW6HnMcX5vpZ4seFzPb5s17dZT/VWZD2QmXAnFwtOQRTbdSQWrG+L9OMAJw50hNS590xAAAA7kGaiUmoQWyZTAhX//44QAAA8+/84AToAJLADjgoA7x/SJ86DcR66/u9Gs1vNg/mCIh46+/byP7BW/BVWQdDGIpLBMlVjUHBd+vZRfHyExaUh6oH3+yhJz2H/UOViMZkFs2wLkqNwyfaM945tPV6PfidfeZNLV5v3Qumjdi3Td6MbNmInWv8YM9fhJhqE/bVUzoDPzblLTWMZWYfxui1jxEEHTU/uBvHw06zFgL95F9kNpYAJxw4rCilTZ9jrxhd0+Z1qOULLQVGM75BGynZHp1XNfe/n21aVEVvWN69IIgClmx0teKJOkWCRIuErYEAAABwQZ6nRRUsI/8AABR1GIv+iAgtckAIxLlj/uO6lGdE0e2S7tBVZ3r3zgVNfTDGnPPKK18xCp5GYH6EKFI4hOVIvfP1rMinmptRJ00/yJQv2QEOySl0IdzFsNSnkEoUL4VIjp1+sUXfbBJ7vDlWpxobYQAAAEkBnsZ0R/8AAB+4hsWJSzdOizCACfYh0Y4dCQbDZ14KsqZkv0bGUAtuirzpOovxX2JzFZTD7ay6hXWdKc/IOqAD78llcfBXcmKQAAAASAGeyGpH/wAAHv5Lvog1y83t5A6aTjt35Nr8xftsresD88lN1lWsf/5c9wS4nTg9zpdkf31jyEPdxcph8lL6LCjo9Ymbuog6kAAAAHZBmsxJqEFsmUwI//yEAAAON6J79hc7RkYAjsyy7LqNDBOJKrlFWQXaQfwykuczt3IAM5DlS0Z4YNZ0cP7RAagcbQCqRPNht5sxCMxHphLr9zp6i9wtIfpn5AeIRkhmNQqeKV1F47r/7ISPwCDBtlgP+vzUHzGTAAAAV0Ge6kUVLCP/AAAT6yZukhDJdwSvfNU+ynBORChGeBKHNbPvpcUWBqXf71YJzd75gk1PgRHb6dOdxZ4pSi2waWOqOnPzB4YAH3e82foz2B9Rbq4P9WN3QAAAAEYBnwtqR/8AAB8Mp7ep7WEvc1Cn0iN0rALuJzVjcS1yeqnjIzgzmelxK11ejBFR3nn1Xwsv8ekAAnbF+afRgoH74ajy56PbAAAGp21vb3YAAABsbXZoZAAAAAAAAAAAAAAAAAAAA+gAAAYEAAEAAAEAAAAAAAAAAAAAAAABAAAAAAAAAAAAAAAAAAAAAQAAAAAAAAAAAAAAAAAAQAAAAAAAAAAAAAAAAAAAAAAAAAAAAAAAAAAAAAAAAAIAAAXRdHJhawAAAFx0a2hkAAAAAwAAAAAAAAAAAAAAAQAAAAAAAAYEAAAAAAAAAAAAAAAAAAAAAAABAAAAAAAAAAAAAAAAAAAAAQAAAAAAAAAAAAAAAAAAQAAAAAJYAAABkAAAAAAAJGVkdHMAAAAcZWxzdAAAAAAAAAABAAAGBAAAAgAAAQAAAAAFSW1kaWEAAAAgbWRoZAAAAAAAAAAAAAAAAAAAMgAAAE0AVcQAAAAAAC1oZGxyAAAAAAAAAAB2aWRlAAAAAAAAAAAAAAAAVmlkZW9IYW5kbGVyAAAABPRtaW5mAAAAFHZtaGQAAAABAAAAAAAAAAAAAAAkZGluZgAAABxkcmVmAAAAAAAAAAEAAAAMdXJsIAAAAAEAAAS0c3RibAAAAJhzdHNkAAAAAAAAAAEAAACIYXZjMQAAAAAAAAABAAAAAAAAAAAAAAAAAAAAAAJYAZAASAAAAEgAAAAAAAAAAQAAAAAAAAAAAAAAAAAAAAAAAAAAAAAAAAAAAAAAAAAAABj//wAAADJhdmNDAWQAH//hABlnZAAfrNlAmDPl4QAAAwABAAADAGQPGDGWAQAGaOvjyyLAAAAAGHN0dHMAAAAAAAAAAQAAAE0AAAEAAAAAFHN0c3MAAAAAAAAAAQAAAAEAAAJwY3R0cwAAAAAAAABMAAAAAQAAAgAAAAABAAAFAAAAAAEAAAIAAAAAAQAAAAAAAAABAAABAAAAAAEAAAMAAAAAAQAAAQAAAAABAAACAAAAAAEAAAUAAAAAAQAAAgAAAAABAAAAAAAAAAEAAAEAAAAAAQAABQAAAAABAAACAAAAAAEAAAAAAAAAAQAAAQAAAAABAAAFAAAAAAEAAAIAAAAAAQAAAAAAAAABAAABAAAAAAEAAAUAAAAAAQAAAgAAAAABAAAAAAAAAAEAAAEAAAAAAQAABQAAAAABAAACAAAAAAEAAAAAAAAAAQAAAQAAAAABAAAFAAAAAAEAAAIAAAAAAQAAAAAAAAABAAABAAAAAAEAAAUAAAAAAQAAAgAAAAABAAAAAAAAAAEAAAEAAAAAAQAABQAAAAABAAACAAAAAAEAAAAAAAAAAQAAAQAAAAABAAAFAAAAAAEAAAIAAAAAAQAAAAAAAAABAAABAAAAAAEAAAUAAAAAAQAAAgAAAAABAAAAAAAAAAEAAAEAAAAAAQAABQAAAAABAAACAAAAAAEAAAAAAAAAAQAAAQAAAAABAAAFAAAAAAEAAAIAAAAAAQAAAAAAAAABAAABAAAAAAEAAAUAAAAAAQAAAgAAAAABAAAAAAAAAAEAAAEAAAAAAQAAAwAAAAABAAABAAAAAAEAAAUAAAAAAQAAAgAAAAABAAAAAAAAAAEAAAEAAAAAAQAABQAAAAABAAACAAAAAAEAAAAAAAAAAQAAAQAAAAABAAAFAAAAAAEAAAIAAAAAAQAAAAAAAAABAAABAAAAAAEAAAQAAAAAAgAAAQAAAAAcc3RzYwAAAAAAAAABAAAAAQAAAE0AAAABAAABSHN0c3oAAAAAAAAAAAAAAE0AAATQAAAAzgAAAE8AAABFAAAAQgAAAHQAAABBAAAAXQAAAGQAAABTAAAARAAAADIAAACCAAAAVQAAADQAAABJAAAAZAAAAE8AAAAzAAAANAAAAIgAAABWAAAAPAAAADwAAACCAAAASwAAADUAAABFAAAAcQAAAD8AAAA+AAAARAAAAIYAAABJAAAANQAAADYAAABqAAAAUAAAADgAAAAyAAAAiQAAAFUAAABCAAAAPQAAAGcAAABDAAAANQAAADYAAAB0AAAAXAAAAEIAAAA5AAAAYAAAAEgAAABJAAAAOwAAAHcAAABVAAAAPQAAAE8AAACAAAAAPgAAAHAAAABFAAAANgAAAEMAAAB5AAAATAAAAEQAAABDAAAA8gAAAHQAAABNAAAATAAAAHoAAABbAAAASgAAABRzdGNvAAAAAAAAAAEAAAAwAAAAYnVkdGEAAABabWV0YQAAAAAAAAAhaGRscgAAAAAAAAAAbWRpcmFwcGwAAAAAAAAAAAAAAAAtaWxzdAAAACWpdG9vAAAAHWRhdGEAAAABAAAAAExhdmY1Ny44My4xMDA=\" type=\"video/mp4\"/>\n",
              "                                </video>"
            ],
            "text/plain": [
              "<IPython.core.display.HTML object>"
            ]
          },
          "metadata": {
            "tags": []
          }
        },
        {
          "output_type": "stream",
          "text": [
            "Solved!\n"
          ],
          "name": "stdout"
        },
        {
          "output_type": "display_data",
          "data": {
            "text/html": [
              "<video alt=\"test\" autoplay loop controls style=\"height: 300px;\">\n",
              "                                <source src=\"data:video/mp4;base64,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\" type=\"video/mp4\"/>\n",
              "                                </video>"
            ],
            "text/plain": [
              "<IPython.core.display.HTML object>"
            ]
          },
          "metadata": {
            "tags": []
          }
        }
      ]
    }
  ]
}