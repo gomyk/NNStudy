{
  "nbformat": 4,
  "nbformat_minor": 0,
  "metadata": {
    "colab": {
      "name": "GymDisplay.ipynb",
      "provenance": [],
      "collapsed_sections": [],
      "authorship_tag": "ABX9TyMIWdQepdACt/ka7y8/Tf8s",
      "include_colab_link": true
    },
    "kernelspec": {
      "name": "python3",
      "display_name": "Python 3"
    }
  },
  "cells": [
    {
      "cell_type": "markdown",
      "metadata": {
        "id": "view-in-github",
        "colab_type": "text"
      },
      "source": [
        "<a href=\"https://colab.research.google.com/github/henry-bokyum-kim/NNStudy/blob/master/GymDisplay.ipynb\" target=\"_parent\"><img src=\"https://colab.research.google.com/assets/colab-badge.svg\" alt=\"Open In Colab\"/></a>"
      ]
    },
    {
      "cell_type": "code",
      "metadata": {
        "id": "fOGHxbyy6_rq",
        "colab_type": "code",
        "colab": {}
      },
      "source": [
        "!pip install gym pyvirtualdisplay > /dev/null 2>&1\n",
        "!apt-get install -y xvfb python-opengl ffmpeg > /dev/null 2>&1\n",
        "!apt-get install x11-utils"
      ],
      "execution_count": 0,
      "outputs": []
    },
    {
      "cell_type": "code",
      "metadata": {
        "id": "XFLMtaRV7fdC",
        "colab_type": "code",
        "colab": {}
      },
      "source": [
        "import gym\n",
        "from gym import logger as gymlogger\n",
        "from gym.wrappers import Monitor\n",
        "gymlogger.set_level(40)\n",
        "\n",
        "import math\n",
        "import glob\n",
        "import io\n",
        "import base64\n",
        "from IPython.display import HTML\n",
        "\n",
        "from pyvirtualdisplay import Display\n",
        "from IPython import display as ipythondisplay\n",
        "\n",
        "display = Display(visible=0, size=(1400,900),)\n",
        "display.start()\n",
        "\n",
        "def show_video():\n",
        "  mp4list = glob.glob('video/*.mp4')\n",
        "  if len(mp4list) > 0:\n",
        "    for mp4 in mp4list:\n",
        "      video = io.open(mp4, 'r+b').read()\n",
        "      print(mp4)\n",
        "      encoded = base64.b64encode(video)\n",
        "      ipythondisplay.display(HTML(data='''<video alt=\"test\" autoplay loop controls style=\"height: 300px;\">\n",
        "                                  <source src=\"data:video/mp4;base64,{0}\" type=\"video/mp4\"/>\n",
        "                                  </video>'''.format(encoded.decode('ascii'))))\n",
        "  else:\n",
        "    print(\"Could not find video\")"
      ],
      "execution_count": 0,
      "outputs": []
    },
    {
      "cell_type": "code",
      "metadata": {
        "id": "4YKrsA1-74sb",
        "colab_type": "code",
        "colab": {}
      },
      "source": [
        "# default random move.\n",
        "\n",
        "env = Monitor(gym.make(\"CartPole-v0\"),\"./video\",force=True)\n",
        "env.reset()\n",
        "#env.render()\n",
        "\n",
        "reward = 0.0\n",
        "count =0\n",
        "\n",
        "while True:\n",
        "  action = count%2\n",
        "  obs, rew, done, _ = env.step(action)\n",
        "  reward += rew\n",
        "  count +=1\n",
        "\n",
        "  if done:\n",
        "    break\n",
        "env.close()\n",
        "\n",
        "print(\"total Rew : %.4f\"%reward)\n",
        "show_video()"
      ],
      "execution_count": 0,
      "outputs": []
    },
    {
      "cell_type": "code",
      "metadata": {
        "id": "OLUyu9JD_LyS",
        "colab_type": "code",
        "colab": {}
      },
      "source": [
        "#basic NN\n",
        "import gym\n",
        "from collections import namedtuple\n",
        "import numpy as np\n",
        "\n",
        "import torch\n",
        "import torch.nn as nn\n",
        "import torch.optim as optim\n",
        "\n",
        "HIDDEN_SIZE=128\n",
        "BATCH_SIZE=32\n",
        "PRUNE=50\n",
        "\n",
        "class Net(nn.Module):\n",
        "  def __init__(self, obs_size, hidden_size, n_actions):\n",
        "    super(Net, self).__init__()\n",
        "    self.net = nn.Sequential(\n",
        "        nn.Linear(obs_size, hidden_size),\n",
        "        nn.ReLU(),\n",
        "        nn.Linear(hidden_size,n_actions)\n",
        "    )\n",
        "  def forward(self, x):\n",
        "    return self.net(x)\n",
        "\n",
        "episode = namedtuple('Episode', field_names=['reward','steps'])\n",
        "episodeStep = namedtuple('EpisodeStep', field_names=['observation', 'action'])\n",
        "\n",
        "def iterate_batches(env, net, batch_size):\n",
        "  batch=[]\n",
        "  episode_reward = 0.0\n",
        "  episode_steps = []\n",
        "  obs = env.reset()\n",
        "  sm = nn.Softmax(dim=1)\n",
        "  while True:\n",
        "    obs_v = torch.FloatTensor([obs])\n",
        "    act_probs_v = sm(net(obs_v))\n",
        "    act_probs = act_probs_v.data.numpy()[0]\n",
        "    action = np.random.choice(len(act_probs), p=act_probs)\n",
        "\n",
        "    next_obs, reward, done, _ = env.step(action)\n",
        "    episode_reward += reward\n",
        "    episode_steps.append(episodeStep(observation = obs, action=action))\n",
        "    if done:\n",
        "      batch.append(episode(reward=episode_reward, steps=episode_steps))\n",
        "      episode_reward = 0.0\n",
        "      episode_steps = []\n",
        "      next_obs = env.reset()\n",
        "      if len(batch) == batch_size:\n",
        "        yield batch\n",
        "        batch = []\n",
        "    obs=next_obs\n",
        "\n",
        "def filter_batch(batch, percentile):\n",
        "  rewards = list(map(lambda s:s.reward, batch))\n",
        "  reward_bound = np.percentile(rewards, percentile)\n",
        "  reward_mean = float(np.mean(rewards))\n",
        "\n",
        "  train_obs = []\n",
        "  train_act = []\n",
        "\n",
        "  for example in batch:\n",
        "    if example.reward < reward_bound:\n",
        "      continue\n",
        "    train_obs.extend(map(lambda step: step.observation, example.steps))\n",
        "    train_act.extend(map(lambda step: step.action, example.steps))\n",
        "\n",
        "  train_obs_v = torch.FloatTensor(train_obs)\n",
        "  train_act_v = torch.LongTensor(train_act)\n",
        "  return train_obs_v, train_act_v, reward_bound, reward_mean\n",
        "\n",
        "if __name__ == \"__main__\":\n",
        "  env = gym.wrappers.Monitor(gym.make(\"CartPole-v1\"), \"./video\", force=True, video_callable=lambda cnt: cnt%100==0)\n",
        "  obs_size = env.observation_space.shape[0]\n",
        "  n_actions = env.action_space.n\n",
        "\n",
        "  net = Net(obs_size, HIDDEN_SIZE, n_actions)\n",
        "  objective = nn.CrossEntropyLoss()\n",
        "  optimizer = optim.Adam(params=net.parameters(), lr=0.01)\n",
        "\n",
        "  for iter_no, batch in enumerate(iterate_batches(env, net, BATCH_SIZE)):\n",
        "      obs_v, acts_v, reward_b, reward_m = filter_batch(batch, PRUNE)\n",
        "      optimizer.zero_grad()\n",
        "      action_scores_v = net(obs_v)\n",
        "      loss_v = objective(action_scores_v, acts_v)\n",
        "      loss_v.backward()\n",
        "      optimizer.step()\n",
        "      print(\"%d: loss=%.3f, reward_mean=%.2f, reward_bound=%.2f\" % (iter_no, loss_v.item(), reward_m, reward_b))\n",
        "      #if iter_no%20 == 0:\n",
        "        #show_video()\n",
        "      if reward_m > 490:\n",
        "          print(\"Solved!\")\n",
        "          #show_video()\n",
        "          break"
      ],
      "execution_count": 0,
      "outputs": []
    },
    {
      "cell_type": "code",
      "metadata": {
        "id": "WMFjj1DnZUyi",
        "colab_type": "code",
        "colab": {}
      },
      "source": [
        "show_video()"
      ],
      "execution_count": 0,
      "outputs": []
    }
  ]
}